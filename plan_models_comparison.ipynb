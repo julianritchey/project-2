{
 "cells": [
  {
   "cell_type": "code",
   "execution_count": null,
   "id": "d5606c6d-8825-4a8c-a14e-27c65277aa70",
   "metadata": {},
   "outputs": [],
   "source": [
    "Min: 0.4501123757081319\n",
    "Max: 98.60433006234564\n",
    "Mean: 10.778693940698957\n",
    "Median: 4.047974124274686\n",
    "Standard Deviation: 15.851467017563937"
   ]
  },
  {
   "cell_type": "code",
   "execution_count": null,
   "id": "b45c1476-bf1e-46ab-a52d-9ddfc26b8e11",
   "metadata": {},
   "outputs": [],
   "source": [
    "# Prepare X and Y\n",
    "X = us_data.drop(['TrueRiskTol'], axis=1)\n",
    "Y = us_data['TrueRiskTol']\n",
    "\n",
    "# Split the data into training and testing sets\n",
    "X_train, X_test, Y_train, Y_test = train_test_split(X, Y, random_state=1)\n",
    "\n",
    "# Train your chosen regression model\n",
    "model = LinearRegression()\n",
    "model.fit(X_train, Y_train)\n",
    "\n",
    "# Make predictions on the testing data\n",
    "numerical_predictions = model.predict(X_test)\n"
   ]
  },
  {
   "cell_type": "code",
   "execution_count": null,
   "id": "ad98ad82-3f4d-44f4-8b21-dfff852a9ef3",
   "metadata": {},
   "outputs": [],
   "source": [
    "for a particular US data set it was predicted that age, networth and income had the 3 biggest weights in determining true investor risk prediction as a target Y column which yielded a numerical value. I was going utilize that US data set, train a model, and then feed my canadian data set to predict the same (investor risk prediction). However, the US data set yields the investor risk prediction as a numerical value like I explained, and what I wanted to do with my canadian data set was to predict a score for my investor risk prediction column such as ( 1= low risk, 2= conservative, 3=high risk) .\n",
    "\n",
    "1. How can I do this? or what other approach should I take that it would be easier to do, can I maybe first predict the numerical value for my investor risk assessment column, and then transform that into a categorical value? Because I would need to do this for my US data set, and then transform those numerical values into categorical and then feed my canadian data set. \n",
    "\n",
    "2. I have found a second canadian data set , both canadian datasets have the same feature columns but they both lack the risk investor's assessment column. How could I determine the Y column based on my features (income, age, networth, debts, and such)\n",
    "\n",
    "So, I dont which way would be easier to do. I will be working on my jupyter notebook using python. \n",
    "What I firstly wanted to do is to just predict the investor's assessment score into categorical values then build a neural network model to classify and train that US model and then feed and therefore predict my canadian data set. \n",
    "\n",
    "Please help me which one is easier to do, I need the step by step so I can do either of those."
   ]
  },
  {
   "cell_type": "code",
   "execution_count": null,
   "id": "0cf600b1-326f-4f98-9ad6-40014bba929d",
   "metadata": {},
   "outputs": [],
   "source": [
    "\n",
    "To address your questions and provide step-by-step guidance, let's break down each part of your problem.\n",
    "\n",
    "1.Transforming Numerical Predictions into Categorical Values:\n",
    "If your US dataset provides numerical values for investor risk prediction, you can convert them into categorical values such as \"low risk,\" \"conservative,\" and \"high risk\" as you mentioned. This can be done by defining appropriate thresholds or ranges for each category. For example, you can set a threshold of 0-0.33 for low risk, 0.34-0.66 for conservative, and 0.67-1 for high risk. Here's how you can achieve this:\n",
    "\n",
    "a. Train your model on the US dataset and obtain numerical predictions for the investor risk prediction column.\n",
    "b. Apply the threshold ranges to map these numerical predictions to categorical values. You can use if-else statements or the numpy.digitize() function to achieve this mapping.\n",
    "c. Create a new column in your US dataset to store the categorical values corresponding to the investor risk assessment.\n",
    "\n",
    "Once you have transformed the US dataset into categorical values, you can proceed to use this transformed dataset as a training set for your neural network model. Then, you can feed your Canadian dataset into this trained model to predict the investor risk assessment.\n",
    "\n",
    "2Determining the Y Column for Canadian Data:\n",
    "Since you have two Canadian datasets that lack the investor risk assessment column, you need to determine the Y column (target variable) based on the available features (income, age, net worth, debts, etc.). To do this, you can follow these steps:\n",
    "\n",
    "a. Combine the two Canadian datasets into a single dataset if they have the same feature columns.\n",
    "b. Prepare your dataset by performing data cleaning, handling missing values, and ensuring the features are in the correct format for modeling.\n",
    "c. Split your combined Canadian dataset into features (X) and target variable (Y), where the target variable is the investor risk assessment column that you want to predict.\n",
    "d. Train a model on your US dataset, where the investor risk assessment column is already available. You can use regression techniques (e.g., linear regression) since the target variable is numerical.\n",
    "e. Use the trained model to predict the investor risk assessment for your Canadian dataset.\n",
    "\n",
    "Once you have obtained the predicted numerical values for the investor risk assessment, you can follow the steps mentioned in part 1 to transform them into categorical values.\n",
    "\n",
    "Remember to evaluate your model's performance and consider any additional preprocessing steps or feature engineering that might improve the accuracy of your predictions."
   ]
  },
  {
   "cell_type": "code",
   "execution_count": null,
   "id": "7ce87169-24ac-4190-abd0-12af714e9f55",
   "metadata": {},
   "outputs": [],
   "source": []
  }
 ],
 "metadata": {
  "kernelspec": {
   "display_name": "Python 3 (ipykernel)",
   "language": "python",
   "name": "python3"
  },
  "language_info": {
   "codemirror_mode": {
    "name": "ipython",
    "version": 3
   },
   "file_extension": ".py",
   "mimetype": "text/x-python",
   "name": "python",
   "nbconvert_exporter": "python",
   "pygments_lexer": "ipython3",
   "version": "3.9.16"
  }
 },
 "nbformat": 4,
 "nbformat_minor": 5
}
