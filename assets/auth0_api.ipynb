{
 "cells": [
  {
   "cell_type": "code",
   "execution_count": 1,
   "id": "4f35a078-65fc-4314-890d-e579b9e9f4c1",
   "metadata": {},
   "outputs": [],
   "source": [
    "import requests\n",
    "import pandas as pd\n",
    "from dotenv import find_dotenv, load_dotenv\n",
    "from os import environ as env"
   ]
  },
  {
   "cell_type": "code",
   "execution_count": 2,
   "id": "6f751f02-db86-4a18-8885-ea2e748b0605",
   "metadata": {},
   "outputs": [],
   "source": [
    "# Load .env file\n",
    "ENV_FILE = find_dotenv()\n",
    "if ENV_FILE:\n",
    "    load_dotenv(ENV_FILE)\n",
    "\n",
    "access_token = env.get('AUTH0_ACCESS_TOKEN')\n",
    "client_id = env.get('AUTH0_CLIENT_ID')\n",
    "client_secret = env.get('AUTH0_CLIENT_SECRET')\n",
    "domain = env.get('AUTH0_DOMAIN')"
   ]
  },
  {
   "cell_type": "markdown",
   "id": "fcfc42f0-9074-41e4-9291-941e645b0fab",
   "metadata": {},
   "source": [
    "#### POST access token"
   ]
  },
  {
   "cell_type": "code",
   "execution_count": 4,
   "id": "e19c2b83-14dc-4b98-a3aa-0d5fecba30eb",
   "metadata": {},
   "outputs": [
    {
     "name": "stdout",
     "output_type": "stream",
     "text": [
      "{'error': 'access_denied', 'error_description': 'Unauthorized'}\n",
      "Failed to get access token. Error code: 401\n"
     ]
    }
   ],
   "source": [
    "def post_access_token(client_id, client_secret, domain):\n",
    "    payload = '{\"client_id\":'+client_id+',\"client_secret\":'+client_secret+',\"audience\":\"https://'+domain+'\",\"grant_type\":\"client_credentials\"}'\n",
    "    headers = { 'content-type': \"application/json\" }\n",
    "    response = requests.post(\"https://\"+domain+\"/oauth/token\", payload, headers)\n",
    "    if response.status_code == 200:\n",
    "        return response.json()\n",
    "    else:\n",
    "        print(response.json())\n",
    "        print('Failed to get access token. Error code:', response.status_code)\n",
    "        return None\n",
    "\n",
    "post_access_token(client_id, client_secret, domain)"
   ]
  },
  {
   "cell_type": "markdown",
   "id": "df463aec-4159-48da-a3d5-2962efb99795",
   "metadata": {},
   "source": [
    "#### GET users"
   ]
  },
  {
   "cell_type": "code",
   "execution_count": 6,
   "id": "c595c74b-e738-4224-ab47-e03a489841ac",
   "metadata": {},
   "outputs": [
    {
     "data": {
      "text/plain": [
       "{'created_at': '2023-06-13T22:53:47.996Z',\n",
       " 'email': 'cryptusjulianus@gmail.com',\n",
       " 'email_verified': True,\n",
       " 'family_name': 'Julianus',\n",
       " 'given_name': 'Cryptus',\n",
       " 'identities': [{'provider': 'google-oauth2',\n",
       "   'access_token': 'ya29.a0AWY7CkmM1khfHjjgjWQLkznJQ6YutP7dXZ_yxEVAOukT79Jr7ciwCOxq8VLdHKH6DboE6i8ZNUoVZJ6rRqdO3RsIm_mitk2rNDu4EnIl9uWeOSat_gTRwy4CrCixt2wAd-EmznncXlX6c_wj67zg2AjFN5p-aCgYKAcoSARESFQG1tDrpVsTxcdMLVaRuqhqnrIH0wQ0163',\n",
       "   'expires_in': 3599,\n",
       "   'user_id': '100052971764608145210',\n",
       "   'connection': 'google-oauth2',\n",
       "   'isSocial': True}],\n",
       " 'locale': 'en',\n",
       " 'name': 'Cryptus Julianus',\n",
       " 'nickname': 'cryptusjulianus',\n",
       " 'picture': 'https://lh3.googleusercontent.com/a/AAcHTtddOO0al954FAt0F9WKKkuhLN-6kDopogFVvwhc=s96-c',\n",
       " 'updated_at': '2023-06-14T00:58:45.119Z',\n",
       " 'user_id': 'google-oauth2|100052971764608145210',\n",
       " 'user_metadata': {'risk_tolerance': '1 (very low risk)'},\n",
       " 'last_ip': '2607:fea8:1283:5d50:dcf0:41a8:94fe:748a',\n",
       " 'last_login': '2023-06-13T22:53:47.995Z',\n",
       " 'logins_count': 1}"
      ]
     },
     "execution_count": 6,
     "metadata": {},
     "output_type": "execute_result"
    }
   ],
   "source": [
    "def get_user(access_token, user_id):\n",
    "    headers = {\n",
    "        'authorization': access_token,\n",
    "        'content-type': 'application/json'\n",
    "    }\n",
    "    response = requests.get(\"https://dev-7fbdieei5wsosku8.us.auth0.com/api/v2/users/\"+user_id, headers=headers)\n",
    "    if response.status_code == 200:\n",
    "        return response.json()\n",
    "    else:\n",
    "        print(response.json())\n",
    "        print('Failed to get user data. Error code:', response.status_code)\n",
    "        return None\n",
    "    \n",
    "get_user(access_token, 'google-oauth2|100052971764608145210')"
   ]
  },
  {
   "cell_type": "markdown",
   "id": "bd052094-86ef-4d34-9890-9e420b31e31c",
   "metadata": {},
   "source": [
    "#### PATCH user risk tolerance"
   ]
  },
  {
   "cell_type": "code",
   "execution_count": 131,
   "id": "de1c39f5-ef24-4199-8e4e-6cb0cc03568f",
   "metadata": {},
   "outputs": [],
   "source": [
    "def patch_user_risk_tolerance(access_token, risk_level, user_id):\n",
    "    payload = '{\"user_metadata\": {\"risk_tolerance\": \"'+str(risk_level)+'\"}}'\n",
    "    headers = {\n",
    "        'authorization': access_token,\n",
    "        'content-type': 'application/json'\n",
    "    }\n",
    "    response = requests.patch(\"https://dev-7fbdieei5wsosku8.us.auth0.com/api/v2/users/\"+user_id, payload, headers=headers)\n",
    "    if response.status_code == 200:\n",
    "        return response.json()\n",
    "    else:\n",
    "        print('Failed to change risk tolerance. Error code:', response.status_code)\n",
    "        return None"
   ]
  },
  {
   "cell_type": "markdown",
   "id": "916d8f72-3cd6-4d47-8950-0758add9d38b",
   "metadata": {},
   "source": [
    "#### PATCH user theme preference"
   ]
  },
  {
   "cell_type": "code",
   "execution_count": 131,
   "id": "e108cf30-d64d-498f-94df-ff374da6acad",
   "metadata": {},
   "outputs": [],
   "source": [
    "def patch_user_theme_preference(access_token, theme_preference, user_id):\n",
    "    payload = '{\"user_metadata\": {\"theme_preference\": \"'+str(theme_preference)+'\"}}'\n",
    "    headers = {\n",
    "        'authorization': access_token,\n",
    "        'content-type': 'application/json'\n",
    "    }\n",
    "    response = requests.patch(\"https://dev-7fbdieei5wsosku8.us.auth0.com/api/v2/users/\"+user_id, payload, headers=headers)\n",
    "    if response.status_code == 200:\n",
    "        return response.json()\n",
    "    else:\n",
    "        print('Failed to change risk tolerance. Error code:', response.status_code)\n",
    "        return None"
   ]
  },
  {
   "cell_type": "code",
   "execution_count": null,
   "id": "0716f203-fe29-48f1-a3cc-89b27b06e9da",
   "metadata": {},
   "outputs": [],
   "source": [
    "{\n",
    "    'created_at': '2023-04-13T01:09:54.684Z',\n",
    "    'email': 'julian.ritchey@gmail.com',\n",
    "    'email_verified': True,\n",
    "    'family_name': 'Ritchey',\n",
    "    'given_name': 'Julian',\n",
    "    'identities': [\n",
    "        {\n",
    "            'provider': 'google-oauth2',\n",
    "            'access_token': 'ya29.a0AWY7CklRFsdb8MAJ6T6BPy9xPia_uuyMPVoAmlp_rTAiAiahG2NuTaGSB4eYguH47jTPSW1L01uDmW81FSksIcsA9EWwAl8m4_xRlG66EGDEOK64aEF_8Nqb8SS5LZusFt2YOmutfqk-uuCx0uUsYievJLA9rooaCgYKAY4SARESFQG1tDrpXQpAMzC6p2N13cT9SHyr6w0166',\n",
    "            'expires_in': 3599,\n",
    "            'user_id': '115365081017678540539',\n",
    "            'connection': 'google-oauth2',\n",
    "            'isSocial': True\n",
    "        }\n",
    "    ],\n",
    "    'locale': 'en',\n",
    "    'name': 'Julian Ritchey',\n",
    "    'nickname': 'julian.ritchey',\n",
    "    'picture': 'https://lh3.googleusercontent.com/a/AAcHTtf-2u1WjUfQ0UQHU2QX7MTqQ4shXY0w30H3WdOl=s96-c',\n",
    "    'updated_at': '2023-06-12T20:50:38.714Z',\n",
    "    'user_id': 'google-oauth2|115365081017678540539',\n",
    "    'user_metadata': {\n",
    "        'risk_tolerance': 1\n",
    "    },\n",
    "    'last_ip': '70.31.19.159',\n",
    "    'last_login': '2023-06-12T18:19:18.729Z',\n",
    "    'logins_count': 153\n",
    "}"
   ]
  }
 ],
 "metadata": {
  "kernelspec": {
   "display_name": "dev",
   "language": "python",
   "name": "dev"
  },
  "language_info": {
   "codemirror_mode": {
    "name": "ipython",
    "version": 3
   },
   "file_extension": ".py",
   "mimetype": "text/x-python",
   "name": "python",
   "nbconvert_exporter": "python",
   "pygments_lexer": "ipython3",
   "version": "3.9.16"
  }
 },
 "nbformat": 4,
 "nbformat_minor": 5
}
