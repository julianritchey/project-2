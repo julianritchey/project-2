{
 "cells": [
  {
   "cell_type": "code",
   "execution_count": 8,
   "id": "09b56470-1637-409c-aaca-d02945094646",
   "metadata": {},
   "outputs": [],
   "source": [
    "### Investment data\n",
    "#Initialize investments.ipynb file in Resources folder.\n",
    "# Prepare API calls for investment data collection.\n",
    "# Pull investment data from first exchange.\n",
    "# Organize investment data.\n",
    "# Pull investment data from remaining exchanges.\n",
    "# Organize investment data from remaining exchanges."
   ]
  },
  {
   "cell_type": "code",
   "execution_count": 9,
   "id": "8d723bfe-7106-4a27-beb6-fb23d498d1d8",
   "metadata": {},
   "outputs": [],
   "source": [
    "from tradingview_ta import TA_Handler, Interval, Exchange\n",
    "import tradingview_ta\n",
    "from tradingview_ta import TradingView"
   ]
  },
  {
   "cell_type": "code",
   "execution_count": 10,
   "id": "96c3b705-cc6d-414d-87f7-5afd9fd51384",
   "metadata": {},
   "outputs": [],
   "source": [
    "handler = TA_Handler(\n",
    "    symbol=\"\",\n",
    "    exchange=\"\",\n",
    "    screener=\"\",\n",
    "    interval=\"\",\n",
    "    timeout=None\n",
    ")"
   ]
  },
  {
   "cell_type": "code",
   "execution_count": 11,
   "id": "044b88f1-af37-40ec-8758-0c7a2c90fa1d",
   "metadata": {},
   "outputs": [],
   "source": [
    "handler = TA_Handler(\n",
    "    symbol=\"TSLA\",\n",
    "    screener=\"america\",\n",
    "    exchange=\"NASDAQ\",\n",
    "    interval=Interval.INTERVAL_1_WEEK\n",
    ")\n",
    "analysis = handler.get_analysis()"
   ]
  },
  {
   "cell_type": "code",
   "execution_count": 12,
   "id": "0cefb60a-f672-46fe-b16d-1b88ab7e4f8b",
   "metadata": {},
   "outputs": [
    {
     "name": "stdout",
     "output_type": "stream",
     "text": [
      "{'RECOMMENDATION': 'SELL', 'BUY': 5, 'SELL': 12, 'NEUTRAL': 9}\n"
     ]
    }
   ],
   "source": [
    "tesla = TA_Handler(\n",
    "    symbol=\"TSLA\",\n",
    "    screener=\"america\",\n",
    "    exchange=\"NASDAQ\",\n",
    "    interval=Interval.INTERVAL_1_DAY\n",
    ")\n",
    "print(tesla.get_analysis().summary)"
   ]
  },
  {
   "cell_type": "code",
   "execution_count": 18,
   "id": "ebcb4558-6504-42fb-a680-39ec6e2c29b8",
   "metadata": {},
   "outputs": [
    {
     "data": {
      "text/plain": [
       "185.9"
      ]
     },
     "execution_count": 18,
     "metadata": {},
     "output_type": "execute_result"
    }
   ],
   "source": [
    "analysis.indicators[\"open\"]\n",
    "analysis.indicators[\"close\"]"
   ]
  },
  {
   "cell_type": "code",
   "execution_count": null,
   "id": "5a437379-c50f-4a5c-8f78-9101b1e8e790",
   "metadata": {},
   "outputs": [],
   "source": []
  }
 ],
 "metadata": {
  "kernelspec": {
   "display_name": "Python 3 (ipykernel)",
   "language": "python",
   "name": "python3"
  },
  "language_info": {
   "codemirror_mode": {
    "name": "ipython",
    "version": 3
   },
   "file_extension": ".py",
   "mimetype": "text/x-python",
   "name": "python",
   "nbconvert_exporter": "python",
   "pygments_lexer": "ipython3",
   "version": "3.9.16"
  }
 },
 "nbformat": 4,
 "nbformat_minor": 5
}
