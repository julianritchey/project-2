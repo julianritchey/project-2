{
 "cells": [
  {
   "cell_type": "code",
   "execution_count": 1,
   "id": "e3d98f36-b4ec-4339-ab7a-e6b7a4739691",
   "metadata": {},
   "outputs": [],
   "source": [
    "### Investment data\n",
    "#Real investment kucoin investment data \n",
    "#Initialize investments.ipynb file in Resources folder.\n",
    "# Prepare API calls for investment data collection.\n",
    "# Pull investment data from first exchange.\n",
    "# Organize investment data.\n",
    "# Pull investment data from remaining exchanges.\n",
    "# Organize investment data from remaining exchanges"
   ]
  },
  {
   "cell_type": "code",
   "execution_count": 2,
   "id": "1031e51b-f0b9-4092-8d3a-eb2e1c6aafa9",
   "metadata": {},
   "outputs": [],
   "source": [
    "## Defining functions for investment data in Kucoin exchange\n",
    "\n",
    "# get_headers(url): returns the headers needed for API authentication and authorization.\n",
    "# get_account_data(url='/api/v1/accounts'): retrieves account data for a user.\n",
    "# get_investment_data(url='/api/v1/accounts'): retrieves investment data for a user, specifically trade balances.\n",
    "# get_all_tickers(url='/api/v1/symbols'): retrieves a list of all available trading pairs on the exchange.\n",
    "# get_tickers(url='/api/v1/market/allTickers'): retrieves the ticker data for all trading pairs on the exchange.\n",
    "# get_all_tickers: retrieves a list of all available trading pairs (tickers) on KuCoin.\n",
    "# get_tickers: retrieves ticker information for all trading pairs on KuCoin.\n",
    "# get_open_orders: retrieves a list of all currently open orders for a given trading pair on KuCoin.\n",
    "# get_order_history: retrieves a list of all completed orders for a given trading pair on KuCoin.\n",
    "# get_trade_history: retrieves a list of all trades (fills) for a given trading pair on KuCoin.\n",
    "# place_order: places a limit order for a given trading pair on KuCoin.\n",
    "# cancel_order: cancels an order with the given ID for a given trading pair on KuCoin.\n",
    "# get_balance: retrieves the balance of a given currency in the user's KuCoin account.\n",
    "# get_all_balances: retrieves the balance of all currencies in the user's KuCoin account.\n",
    "# get_investment_data: retrieves investment data for the user, including currency, balance, and purchase price\n",
    "# get_all_tickers: retrieves ticker data for all available currencies\n",
    "# get_total_profit_loss: calculates the total profit or loss for the user's investments\n",
    "# get_currency_holdings: retrieves the user's holdings for a specific currency\n",
    "# get_exchange_balances: calculates the user's balances in USD for all currencies available on the exchange\n",
    "# get_latest_price: retrieves the latest price for a specific currency\n",
    "# get_price_history: retrieves the price history for a specific currency over a specified time period"
   ]
  },
  {
   "cell_type": "code",
   "execution_count": 13,
   "id": "f7d756bd-433f-476a-b33c-e131df2ce035",
   "metadata": {},
   "outputs": [],
   "source": [
    "import datetime\n",
    "import time\n",
    "import base64\n",
    "import hmac\n",
    "import hashlib\n",
    "import requests\n",
    "import json\n",
    "import pandas as pd\n",
    "from dotenv import find_dotenv, load_dotenv\n",
    "import os\n",
    "from os import environ as env"
   ]
  },
  {
   "cell_type": "code",
   "execution_count": 14,
   "id": "6866ec71-ea12-4df7-9990-13e43ea0d04f",
   "metadata": {},
   "outputs": [],
   "source": [
    "# Load .env file\n",
    "ENV_FILE = find_dotenv()\n",
    "if ENV_FILE:\n",
    "    load_dotenv(ENV_FILE)\n",
    "    \n",
    "api_key = env.get('KUCOIN_API_KEY')\n",
    "api_passphrase = env.get('KUCOIN_api_passphrase')\n",
    "api_secret = env.get('KUCOIN_api_secret')"
   ]
  },
  {
   "cell_type": "markdown",
   "id": "c44c987c-c8ac-4d0f-80fb-d89a1683a115",
   "metadata": {},
   "source": [
    "#### GET headers"
   ]
  },
  {
   "cell_type": "code",
   "execution_count": 17,
   "id": "9196d77e-4fa8-4484-a3a6-b73409754e23",
   "metadata": {},
   "outputs": [
    {
     "data": {
      "text/plain": [
       "{'KC-API-KEY': '647f65131406a100010612c1',\n",
       " 'KC-API-KEY-VERSION': '2',\n",
       " 'KC-API-PASSPHRASE': b'pxT57JAwL/g6jOoxw/ACIydM+jP8THojgEBhzX0sPfE=',\n",
       " 'KC-API-SIGN': b'G20YnEAC5ce8JN+WL3zJA+LhrFfk1pW3G3uTPRj2YTE=',\n",
       " 'KC-API-TIMESTAMP': '1686181201720'}"
      ]
     },
     "execution_count": 17,
     "metadata": {},
     "output_type": "execute_result"
    }
   ],
   "source": [
    "def get_headers(method, endpoint, api_key, api_passphrase, api_secret):\n",
    "    now = int(time.time() * 1000)\n",
    "    str_to_sign = str(now) + method + endpoint\n",
    "    signature = base64.b64encode(\n",
    "        hmac.new(\n",
    "            api_secret.encode('utf-8'),\n",
    "            str_to_sign.encode('utf-8'),\n",
    "            hashlib.sha256)\n",
    "        .digest()\n",
    "    )\n",
    "    passphrase = base64.b64encode(\n",
    "        hmac.new(\n",
    "            api_secret.encode('utf-8'),\n",
    "            api_passphrase.encode('utf-8'),\n",
    "            hashlib.sha256)\n",
    "        .digest()\n",
    "    )\n",
    "    headers = {\n",
    "        \"KC-API-KEY\": api_key,\n",
    "        \"KC-API-KEY-VERSION\": \"2\",\n",
    "        \"KC-API-PASSPHRASE\": passphrase,\n",
    "        \"KC-API-SIGN\": signature,\n",
    "        \"KC-API-TIMESTAMP\": str(now)\n",
    "    }\n",
    "    return headers\n",
    "\n",
    "get_headers('GET', '/api/v2/sub/user', api_key, api_passphrase, api_secret)"
   ]
  },
  {
   "cell_type": "markdown",
   "id": "93e201c3-5dba-4e88-b86c-49046cfc5105",
   "metadata": {},
   "source": [
    "#### GET accounts"
   ]
  },
  {
   "cell_type": "code",
   "execution_count": 34,
   "id": "9f83f984-29d5-41b9-a6cb-1b183e26264b",
   "metadata": {},
   "outputs": [
    {
     "data": {
      "text/plain": [
       "[{'id': '64811f6a92dcc00001ef8395',\n",
       "  'currency': 'USDT',\n",
       "  'type': 'main',\n",
       "  'balance': '44.672893',\n",
       "  'available': '44.672893',\n",
       "  'holds': '0'}]"
      ]
     },
     "execution_count": 34,
     "metadata": {},
     "output_type": "execute_result"
    }
   ],
   "source": [
    "def get_accounts(api_key, api_passphrase, api_secret):\n",
    "    endpoint = '/api/v1/accounts'\n",
    "    headers = get_headers('GET', endpoint, api_key, api_passphrase, api_secret)\n",
    "    response = requests.get('https://api.kucoin.com' + endpoint, headers=headers)\n",
    "    if response.status_code == 200:\n",
    "        balances = response.json()['data']\n",
    "        return balances\n",
    "    else:\n",
    "        print('Failed to get accounts. Error code:', response.status_code)\n",
    "        return None\n",
    "\n",
    "get_user_info(api_key, api_passphrase, api_secret)"
   ]
  },
  {
   "cell_type": "code",
   "execution_count": 25,
   "id": "2d14aec5-1956-48b8-b283-c1dcf70e907c",
   "metadata": {},
   "outputs": [
    {
     "data": {
      "text/plain": [
       "[]"
      ]
     },
     "execution_count": 25,
     "metadata": {},
     "output_type": "execute_result"
    }
   ],
   "source": [
    "def get_account_balance(api_key, api_passphrase, api_secret):\n",
    "    endpoint = '/api/v1/accounts'\n",
    "    headers = get_headers('GET', endpoint, api_key, api_passphrase, api_secret)\n",
    "    response = requests.get('https://api.kucoin.com' + endpoint, headers=headers)\n",
    "    if response.status_code == 200:\n",
    "        balances = response.json()['data']\n",
    "        return balances\n",
    "    else:\n",
    "        print('Failed to get account balances. Error code:', response.status_code)\n",
    "        return None\n",
    "\n",
    "get_account_balance(api_key, api_passphrase, api_secret)"
   ]
  },
  {
   "cell_type": "code",
   "execution_count": 45,
   "id": "e123b75e-0cff-4094-ae7a-85f2993db138",
   "metadata": {},
   "outputs": [],
   "source": [
    "def get_orders(api_key, api_secret, api_passphrase):\n",
    "    url = '/api/v1/orders'\n",
    "    headers = get_headers(url, 'GET', api_key, api_secret, api_passphrase)\n",
    "    response = requests.get('https://api.kucoin.com' + url, headers=headers)\n",
    "    if response.status_code == 200:\n",
    "        orders = response.json()['data']\n",
    "        return orders\n",
    "    else:\n",
    "        print('Failed to get orders. Error code:', response.status_code)\n",
    "        return None"
   ]
  },
  {
   "cell_type": "code",
   "execution_count": null,
   "id": "9eb7bc8b-8b12-4dd6-ad5e-93009cda4da3",
   "metadata": {},
   "outputs": [],
   "source": [
    "# def get_headers(url):\n",
    "#     now = int(time.time() * 1000)\n",
    "#     str_to_sign = str(now) + 'GET' + url\n",
    "#     signature = base64.b64encode(\n",
    "#         hmac.new(api_secret.encode('utf-8'), str_to_sign.encode('utf-8'), hashlib.sha256).digest())\n",
    "#     passphrase = base64.b64encode(\n",
    "#         hmac.new(api_secret.encode('utf-8'), api_passphrase.encode('utf-8'), hashlib.sha256).digest())\n",
    "#     headers = {\n",
    "#         \"KC-API-SIGN\": signature,\n",
    "#         \"KC-API-TIMESTAMP\": str(now),\n",
    "#         \"KC-API-KEY\": api_key,\n",
    "#         \"KC-API-PASSPHRASE\": passphrase,\n",
    "#         \"KC-API-KEY-VERSION\": \"2\"\n",
    "#     }\n",
    "#     return headers\n",
    "\n",
    "# def get_account_balance():\n",
    "#     url = '/api/v1/accounts'\n",
    "#     headers = get_headers(url, 'GET')\n",
    "#     response = requests.get('https://api.kucoin.com' + url, headers=headers)\n",
    "#     if response.status_code == 200:\n",
    "#         balances = response.json()['data']\n",
    "#         return balances\n",
    "#     else:\n",
    "#         print('Failed to get account balances. Error code:', response.status_code)\n",
    "#         return None"
   ]
  },
  {
   "cell_type": "code",
   "execution_count": 11,
   "id": "41ed171b-8c08-4827-a4a2-02171828810f",
   "metadata": {},
   "outputs": [],
   "source": [
    "def get_ticker(symbol):\n",
    "    url = f'/api/v1/market/orderbook/level1?symbol={symbol}'\n",
    "    headers = get_headers(url, 'GET')\n",
    "    response = requests.get('https://api.kucoin.com' + url, headers=headers)\n",
    "    if response.status_code == 200:\n",
    "        ticker_data = response.json()\n",
    "        return ticker_data['data']\n",
    "    else:\n",
    "        print('Failed to get ticker data for symbol', symbol, '. Error code:', response.status_code)\n",
    "        return None"
   ]
  },
  {
   "cell_type": "code",
   "execution_count": 12,
   "id": "fbc4ad57-9f9a-4d8f-ac00-11bd58598ebf",
   "metadata": {},
   "outputs": [
    {
     "data": {
      "text/plain": [
       "{'time': 1681693515560,\n",
       " 'sequence': '165160496',\n",
       " 'price': '0.7784',\n",
       " 'size': '0.886',\n",
       " 'bestBid': '0.7767',\n",
       " 'bestBidSize': '150.6048',\n",
       " 'bestAsk': '0.7785',\n",
       " 'bestAskSize': '3853.6518'}"
      ]
     },
     "execution_count": 12,
     "metadata": {},
     "output_type": "execute_result"
    }
   ],
   "source": [
    "get_ticker('KNC-USDT')"
   ]
  },
  {
   "cell_type": "code",
   "execution_count": 4,
   "id": "94ebdd95-603d-4178-804b-696f6c5a2286",
   "metadata": {},
   "outputs": [],
   "source": [
    "def get_all_tickers():\n",
    "    url = '/api/v1/market/allTickers'\n",
    "    headers = get_headers(url, 'GET')\n",
    "    response = requests.get('https://api.kucoin.com' + url, headers=headers)\n",
    "    if response.status_code == 200:\n",
    "        ticker_data = json.loads(response.text)\n",
    "        return ticker_data\n",
    "    else:\n",
    "        print('Failed to get ticker data. Error code:', response.status_code)\n",
    "        return None"
   ]
  },
  {
   "cell_type": "code",
   "execution_count": 5,
   "id": "0b6118d9-d95c-4baf-8088-baec53afb45a",
   "metadata": {},
   "outputs": [],
   "source": [
    "def get_symbols():\n",
    "    url = '/api/v2/symbols'\n",
    "    headers = get_headers(url, 'GET')\n",
    "    response = requests.request('get', 'https://api.kucoin.com'+url, headers=headers)\n",
    "    if response.status_code == 200:\n",
    "        symbols_data = response.json()['data']\n",
    "        symbols_df = pd.DataFrame(symbols_data)\n",
    "        return symbols_df\n",
    "    else:\n",
    "        print('Failed to get symbols data. Error code:', response.status_code)\n",
    "        return None"
   ]
  },
  {
   "cell_type": "code",
   "execution_count": 20,
   "id": "03647c5d-fb1b-4002-82a1-52a83a30eace",
   "metadata": {},
   "outputs": [
    {
     "data": {
      "text/html": [
       "<div>\n",
       "<style scoped>\n",
       "    .dataframe tbody tr th:only-of-type {\n",
       "        vertical-align: middle;\n",
       "    }\n",
       "\n",
       "    .dataframe tbody tr th {\n",
       "        vertical-align: top;\n",
       "    }\n",
       "\n",
       "    .dataframe thead th {\n",
       "        text-align: right;\n",
       "    }\n",
       "</style>\n",
       "<table border=\"1\" class=\"dataframe\">\n",
       "  <thead>\n",
       "    <tr style=\"text-align: right;\">\n",
       "      <th></th>\n",
       "      <th>name</th>\n",
       "      <th>base_currency</th>\n",
       "      <th>quote_currency</th>\n",
       "      <th>fee_currency</th>\n",
       "      <th>market</th>\n",
       "    </tr>\n",
       "    <tr>\n",
       "      <th>symbol</th>\n",
       "      <th></th>\n",
       "      <th></th>\n",
       "      <th></th>\n",
       "      <th></th>\n",
       "      <th></th>\n",
       "    </tr>\n",
       "  </thead>\n",
       "  <tbody>\n",
       "    <tr>\n",
       "      <th>RNDRDOWN-USDT</th>\n",
       "      <td>RNDRDOWN-USDT</td>\n",
       "      <td>RNDRDOWN</td>\n",
       "      <td>USDT</td>\n",
       "      <td>USDT</td>\n",
       "      <td>USDS</td>\n",
       "    </tr>\n",
       "    <tr>\n",
       "      <th>STXUP-USDT</th>\n",
       "      <td>STXUP-USDT</td>\n",
       "      <td>STXUP</td>\n",
       "      <td>USDT</td>\n",
       "      <td>USDT</td>\n",
       "      <td>USDS</td>\n",
       "    </tr>\n",
       "    <tr>\n",
       "      <th>STXDOWN-USDT</th>\n",
       "      <td>STXDOWN-USDT</td>\n",
       "      <td>STXDOWN</td>\n",
       "      <td>USDT</td>\n",
       "      <td>USDT</td>\n",
       "      <td>USDS</td>\n",
       "    </tr>\n",
       "    <tr>\n",
       "      <th>LINAUP-USDT</th>\n",
       "      <td>LINAUP-USDT</td>\n",
       "      <td>LINAUP</td>\n",
       "      <td>USDT</td>\n",
       "      <td>USDT</td>\n",
       "      <td>USDS</td>\n",
       "    </tr>\n",
       "    <tr>\n",
       "      <th>LINADOWN-USDT</th>\n",
       "      <td>LINADOWN-USDT</td>\n",
       "      <td>LINADOWN</td>\n",
       "      <td>USDT</td>\n",
       "      <td>USDT</td>\n",
       "      <td>USDS</td>\n",
       "    </tr>\n",
       "  </tbody>\n",
       "</table>\n",
       "</div>"
      ],
      "text/plain": [
       "                        name base_currency quote_currency fee_currency market\n",
       "symbol                                                                       \n",
       "RNDRDOWN-USDT  RNDRDOWN-USDT      RNDRDOWN           USDT         USDT   USDS\n",
       "STXUP-USDT        STXUP-USDT         STXUP           USDT         USDT   USDS\n",
       "STXDOWN-USDT    STXDOWN-USDT       STXDOWN           USDT         USDT   USDS\n",
       "LINAUP-USDT      LINAUP-USDT        LINAUP           USDT         USDT   USDS\n",
       "LINADOWN-USDT  LINADOWN-USDT      LINADOWN           USDT         USDT   USDS"
      ]
     },
     "execution_count": 20,
     "metadata": {},
     "output_type": "execute_result"
    }
   ],
   "source": [
    "def clean_symbols_data(symbols_df):\n",
    "    symbols_df = symbols_df.loc[:, ['symbol', 'name', 'baseCurrency', 'quoteCurrency', 'feeCurrency', 'market']]\n",
    "    symbols_df = symbols_df.rename(columns={\n",
    "        'baseCurrency': 'base_currency',\n",
    "        'quoteCurrency': 'quote_currency',\n",
    "        'feeCurrency': 'fee_currency',\n",
    "    })\n",
    "    symbols_df = symbols_df.set_index('symbol')\n",
    "    return symbols_df\n",
    "symbols_df = get_symbols()\n",
    "symbols_cleaned_df = clean_symbols_data(symbols_df)\n",
    "symbols_cleaned_df.head()\n",
    "symbols_cleaned_df.tail()"
   ]
  },
  {
   "cell_type": "code",
   "execution_count": 21,
   "id": "dd9625f8-18b2-4e34-9c1e-6c2833d2ffbd",
   "metadata": {},
   "outputs": [],
   "source": [
    "def get_symbols_pair():\n",
    "    symbols_df = get_symbols()\n",
    "    return symbols_df['symbol']"
   ]
  },
  {
   "cell_type": "code",
   "execution_count": 23,
   "id": "cb6324a2-b79c-4f16-bdfc-d4ccaad1700b",
   "metadata": {},
   "outputs": [],
   "source": [
    "def get_base_currency():\n",
    "    symbols_df = get_symbols()\n",
    "    return symbols_df['baseCurrency']"
   ]
  },
  {
   "cell_type": "code",
   "execution_count": 25,
   "id": "43685f5f-7cf0-4044-927b-5278656f3d7e",
   "metadata": {},
   "outputs": [],
   "source": [
    "def get_quote_currency():\n",
    "    symbols_df = get_symbols()\n",
    "    return symbols_df['quoteCurrency']"
   ]
  },
  {
   "cell_type": "code",
   "execution_count": 6,
   "id": "993369ae-16fb-46a4-8693-806165407d5b",
   "metadata": {},
   "outputs": [],
   "source": [
    "def get_deposit_list(currency=None, page=None, pageSize=None):\n",
    "    url = '/api/v1/deposits'\n",
    "    headers = get_headers(url, 'GET')\n",
    "    params = {}\n",
    "    if currency:\n",
    "        params['currency'] = currency\n",
    "    if page:\n",
    "        params['page'] = page\n",
    "    if pageSize:\n",
    "        params['pageSize'] = pageSize\n",
    "    \n",
    "    response = requests.get('https://api.kucoin.com' + url, headers=headers, params=params)\n",
    "    if response.status_code == 200:\n",
    "        deposit_list = response.json()\n",
    "        return deposit_list\n",
    "    else:\n",
    "        print('Failed to get deposit list. Error code:', response.status_code)\n",
    "        return None"
   ]
  },
  {
   "cell_type": "code",
   "execution_count": 7,
   "id": "ff0ff070-e8a8-4c00-b20d-91f5c2e8c2e2",
   "metadata": {},
   "outputs": [],
   "source": [
    "def get_base_fee():\n",
    "    url = '/api/v1/base-fee'\n",
    "    headers = get_headers(url, 'GET')\n",
    "    response = requests.get('https://api.kucoin.com'+url, headers=headers)\n",
    "    if response.status_code == 200:\n",
    "        fees_data = response.json()['data']\n",
    "        fees_df = pd.DataFrame(fees_data, index=[0])\n",
    "        return fees_df\n",
    "    else:\n",
    "        print('Failed to get trade fees data. Error code:', response.status_code)\n",
    "        return None"
   ]
  },
  {
   "cell_type": "code",
   "execution_count": 8,
   "id": "2b687f8e-2bad-488d-8536-cdd0bdc8b79c",
   "metadata": {},
   "outputs": [],
   "source": [
    "def get_actual_fee_rate(symbol):\n",
    "    url = '/api/v1/trade-fees'\n",
    "    headers = get_headers(url, 'GET')\n",
    "    response = requests.get('https://api.kucoin.com'+url+'?symbols='+symbol, headers=headers)\n",
    "    if response.status_code == 200:\n",
    "        fees_data = response.json()['data']\n",
    "        fees_df = pd.DataFrame(fees_data)\n",
    "        return fees_df\n",
    "    else:\n",
    "        print('Failed to get actual fee rate data. Error code:', response.status_code)\n",
    "        return None"
   ]
  },
  {
   "cell_type": "code",
   "execution_count": 34,
   "id": "28fdb9a5-4eed-4cc8-9a35-8edbabf04f1c",
   "metadata": {},
   "outputs": [],
   "source": [
    "def get_24hr_stats(symbol):\n",
    "    url = 'https://api.kucoin.com/api/v1/market/stats'\n",
    "    params = {'symbol': symbol}\n",
    "    response = requests.get(url, params=params)\n",
    "    data = json.loads(response.text)['data']\n",
    "    return data\n",
    "get_24hr_stats('KNC-USDT')"
   ]
  },
  {
   "cell_type": "code",
   "execution_count": 9,
   "id": "da0a7446-0dce-4562-993c-59f3322b297f",
   "metadata": {},
   "outputs": [],
   "source": [
    "def get_market_list():\n",
    "    endpoint = 'https://api.kucoin.com/api/v1/markets'\n",
    "    response = requests.get(endpoint)\n",
    "    data = json.loads(response.content)\n",
    "    markets = data['data']\n",
    "    print(markets)\n",
    "    return markets"
   ]
  },
  {
   "cell_type": "code",
   "execution_count": 38,
   "id": "8ec91f94-245b-43d0-aa07-7bd3a9fcb282",
   "metadata": {},
   "outputs": [],
   "source": [
    "def get_trade_histories(symbol):\n",
    "    url = 'https://api.kucoin.com/api/v1/market/histories?symbol={}'.format(symbol)\n",
    "    response = requests.get(url)\n",
    "    if response.status_code == 200:\n",
    "        return response.json()['data']\n",
    "    else:\n",
    "        return None\n",
    "get_trade_histories('KNC-USDT')"
   ]
  },
  {
   "cell_type": "code",
   "execution_count": 41,
   "id": "dad0dd3e-5634-48bd-83fd-fa40f8860996",
   "metadata": {},
   "outputs": [],
   "source": [
    "def get_klines(symbol, interval, start_time=None, end_time=None, limit=None):\n",
    "    url = f'https://api.kucoin.com/api/v1/market/candles?type={interval}&symbol={symbol}'\n",
    "    if start_time:\n",
    "        start_timestamp = int(pd.Timestamp(start_time).timestamp() * 1000)\n",
    "        url += f'&startAt={start_timestamp}'\n",
    "    if end_time:\n",
    "        end_timestamp = int(pd.Timestamp(end_time).timestamp() * 1000)\n",
    "        url += f'&endAt={end_timestamp}'\n",
    "    if limit:\n",
    "        url += f'&limit={limit}'\n",
    "    response = requests.get(url)\n",
    "    json_data = response.json()\n",
    "    if 'data' not in json_data:\n",
    "        print(f'No data found for {symbol} {interval} klines.')\n",
    "        return None\n",
    "    data = json_data['data']\n",
    "    columns = ['time', 'open', 'close', 'high', 'low', 'volume']\n",
    "    df = pd.DataFrame(data, columns=columns)\n",
    "    df['time'] = pd.to_datetime(df['time'], unit='ms')\n",
    "    return df\n",
    "\n",
    "get_klines('KNC-USDT', '1day', '2022-04-16', '2022-07-25', limit=100)"
   ]
  },
  {
   "cell_type": "code",
   "execution_count": 29,
   "id": "3b887656-b709-48bc-8af8-e8d117abe098",
   "metadata": {},
   "outputs": [],
   "source": [
    "def get_currencies():\n",
    "    url = '/api/v1/currencies'\n",
    "    response = requests.get('https://api.kucoin.com' + url)\n",
    "    if response.status_code == 200:\n",
    "        currencies_data = response.json()\n",
    "        return currencies_data\n",
    "    else:\n",
    "        print('Failed to get currencies data. Error code:', response.status_code)\n",
    "        return None"
   ]
  },
  {
   "cell_type": "code",
   "execution_count": 26,
   "id": "372718aa-fa92-4910-8c63-f145437e9644",
   "metadata": {},
   "outputs": [
    {
     "name": "stdout",
     "output_type": "stream",
     "text": [
      "Failed to get currencies data. Error code: 400\n"
     ]
    }
   ],
   "source": [
    "def get_currencies2():\n",
    "    url = '/api/v1/limit/orders'\n",
    "    response = requests.get('https://api.kucoin.com' + url)\n",
    "    if response.status_code == 200:\n",
    "        currencies_data = response.json()\n",
    "        return currencies_data\n",
    "    else:\n",
    "        print('Failed to get currencies data. Error code:', response.status_code)\n",
    "        return None\n",
    "    \n",
    "get_currencies2()"
   ]
  },
  {
   "cell_type": "code",
   "execution_count": 11,
   "id": "2d3a50c7-680b-4396-b1c5-6163bf6433d1",
   "metadata": {},
   "outputs": [],
   "source": [
    "def get_fiat_price(symbol):\n",
    "    url = 'https://api.kucoin.com/api/v1/prices'\n",
    "    params = {\"symbols\": symbol}\n",
    "    response = requests.get(url, params=params)\n",
    "\n",
    "    if response.status_code == 200:\n",
    "        data = response.json()['data']\n",
    "        return float(data[symbol])\n",
    "    else:\n",
    "        print(f\"Failed to get {symbol} price. Error code:\", response.status_code)\n",
    "        return None\n",
    "\n",
    "get_fiat_price('USDT')"
   ]
  },
  {
   "cell_type": "code",
   "execution_count": 12,
   "id": "fd99d75d-3c60-4836-b4c9-9758d586d9b8",
   "metadata": {},
   "outputs": [],
   "source": [
    "def get_ohlc_data(symbol, interval='1day', columns=['timestamp', 'open', 'close', 'high', 'low', 'volume', 'turnover']):\n",
    "    url = f'https://api.kucoin.com/api/v1/market/candles?symbol={symbol}&type={interval}'\n",
    "    response = requests.get(url)\n",
    "    \n",
    "    if response.status_code == 200:\n",
    "        data = response.json()['data']\n",
    "        ohlc_data = []\n",
    "        for candle in data:\n",
    "            ohlc_data.append({\n",
    "                columns[0]: candle[0],\n",
    "                columns[1]: float(candle[1]),\n",
    "                columns[2]: float(candle[4]),\n",
    "                columns[3]: float(candle[2]),\n",
    "                columns[4]: float(candle[3]),\n",
    "                columns[5]: float(candle[5]),\n",
    "                columns[6]: float(candle[6])\n",
    "            })\n",
    "        return ohlc_data\n",
    "    else:\n",
    "        print(f'Failed to get {symbol} OHLC data. Error code:', response.status_code)\n",
    "        return None\n",
    "\n",
    "get_ohlc_data('KNC-USDT', '1day')"
   ]
  },
  {
   "cell_type": "code",
   "execution_count": 21,
   "id": "d4ef3c1a-c94d-4828-8ddf-834f1235830b",
   "metadata": {},
   "outputs": [],
   "source": [
    "def get_investment_data(url='/api/v1/accounts'):\n",
    "    headers = get_headers(url, 'GET')\n",
    "    response = requests.get(f'https://api.kucoin.com{url}', headers=headers)\n",
    "    if response.status_code == 200:\n",
    "        data = response.json()\n",
    "        return pd.DataFrame(data['data'])\n",
    "    else:\n",
    "        print(f\"Failed to get investment data. Error code: {response.status_code}\")\n",
    "        return None"
   ]
  },
  {
   "cell_type": "code",
   "execution_count": 64,
   "id": "512d1c41-ea41-41cd-9ad9-71b75b59c3cc",
   "metadata": {},
   "outputs": [],
   "source": [
    "def get_total_portfolio_value():\n",
    "    tickers = get_all_tickers()['data']['ticker']\n",
    "    balances = get_account_balance()\n",
    "    total_value = 0.0\n",
    "    for row in balances:\n",
    "        currency = row['currency']\n",
    "        holdings = row['balance']\n",
    "        ticker = next((item for item in tickers if item['symbol'] == f\"{currency}-USDT\"), None)\n",
    "        if ticker is not None:\n",
    "            price = float(ticker['last'])\n",
    "            value = price * float(holdings)\n",
    "            total_value += value\n",
    "    return total_value"
   ]
  },
  {
   "cell_type": "code",
   "execution_count": 78,
   "id": "a9099091-c304-4efa-9c53-6380e71fd7d4",
   "metadata": {},
   "outputs": [],
   "source": [
    "def get_total_profit_loss():\n",
    "    balances = get_account_balance()\n",
    "    total_profit_loss = 0.0\n",
    "    for balance in balances:\n",
    "        currency = balance['currency']\n",
    "        holdings = float(balance['balance'])\n",
    "        if holdings == 0:\n",
    "            continue\n",
    "        ticker = next((item for item in get_all_tickers()['data']['ticker'] if item['symbol'] == f\"{currency}-USDT\"), None)\n",
    "        if ticker:\n",
    "            price = float(ticker.get('last', 0))\n",
    "            avg_price = float(balance.get('avgPrice', 0))\n",
    "            profit_loss = (price - avg_price) * holdings\n",
    "            total_profit_loss += profit_loss\n",
    "    return total_profit_loss"
   ]
  },
  {
   "cell_type": "code",
   "execution_count": null,
   "id": "10a53616-3b87-4713-87d1-e9d4a36d5af5",
   "metadata": {},
   "outputs": [],
   "source": []
  }
 ],
 "metadata": {
  "kernelspec": {
   "display_name": "Python 3 (ipykernel)",
   "language": "python",
   "name": "python3"
  },
  "language_info": {
   "codemirror_mode": {
    "name": "ipython",
    "version": 3
   },
   "file_extension": ".py",
   "mimetype": "text/x-python",
   "name": "python",
   "nbconvert_exporter": "python",
   "pygments_lexer": "ipython3",
   "version": "3.9.16"
  }
 },
 "nbformat": 4,
 "nbformat_minor": 5
}
