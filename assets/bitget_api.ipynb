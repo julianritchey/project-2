{
 "cells": [
  {
   "cell_type": "code",
   "execution_count": 1,
   "id": "e3d98f36-b4ec-4339-ab7a-e6b7a4739691",
   "metadata": {},
   "outputs": [],
   "source": [
    "### Investment data\n",
    "#Real investment kucoin investment data \n",
    "#Initialize investments.ipynb file in Resources folder.\n",
    "# Prepare API calls for investment data collection.\n",
    "# Pull investment data from first exchange.\n",
    "# Organize investment data.\n",
    "# Pull investment data from remaining exchanges.\n",
    "# Organize investment data from remaining exchanges"
   ]
  },
  {
   "cell_type": "code",
   "execution_count": 2,
   "id": "1031e51b-f0b9-4092-8d3a-eb2e1c6aafa9",
   "metadata": {},
   "outputs": [],
   "source": [
    "## Defining functions for investment data in Kucoin exchange\n",
    "\n",
    "# get_headers(url): returns the headers needed for API authentication and authorization.\n",
    "# get_account_data(url='/api/v1/accounts'): retrieves account data for a user.\n",
    "# get_investment_data(url='/api/v1/accounts'): retrieves investment data for a user, specifically trade balances.\n",
    "# get_all_tickers(url='/api/v1/symbols'): retrieves a list of all available trading pairs on the exchange.\n",
    "# get_tickers(url='/api/v1/market/allTickers'): retrieves the ticker data for all trading pairs on the exchange.\n",
    "# get_all_tickers: retrieves a list of all available trading pairs (tickers) on KuCoin.\n",
    "# get_tickers: retrieves ticker information for all trading pairs on KuCoin.\n",
    "# get_open_orders: retrieves a list of all currently open orders for a given trading pair on KuCoin.\n",
    "# get_order_history: retrieves a list of all completed orders for a given trading pair on KuCoin.\n",
    "# get_trade_history: retrieves a list of all trades (fills) for a given trading pair on KuCoin.\n",
    "# place_order: places a limit order for a given trading pair on KuCoin.\n",
    "# cancel_order: cancels an order with the given ID for a given trading pair on KuCoin.\n",
    "# get_balance: retrieves the balance of a given currency in the user's KuCoin account.\n",
    "# get_all_balances: retrieves the balance of all currencies in the user's KuCoin account.\n",
    "# get_investment_data: retrieves investment data for the user, including currency, balance, and purchase price\n",
    "# get_all_tickers: retrieves ticker data for all available currencies\n",
    "# get_total_profit_loss: calculates the total profit or loss for the user's investments\n",
    "# get_currency_holdings: retrieves the user's holdings for a specific currency\n",
    "# get_exchange_balances: calculates the user's balances in USD for all currencies available on the exchange\n",
    "# get_latest_price: retrieves the latest price for a specific currency\n",
    "# get_price_history: retrieves the price history for a specific currency over a specified time period"
   ]
  },
  {
   "cell_type": "code",
   "execution_count": 3,
   "id": "f7d756bd-433f-476a-b33c-e131df2ce035",
   "metadata": {},
   "outputs": [],
   "source": [
    "import base64\n",
    "import hmac\n",
    "import json\n",
    "import time\n",
    "\n",
    "import hashlib\n",
    "import requests\n",
    "import pandas as pd\n",
    "from dotenv import find_dotenv, load_dotenv\n",
    "import os\n",
    "from os import environ as env"
   ]
  },
  {
   "cell_type": "code",
   "execution_count": 4,
   "id": "6866ec71-ea12-4df7-9990-13e43ea0d04f",
   "metadata": {},
   "outputs": [],
   "source": [
    "# Load .env file\n",
    "ENV_FILE = find_dotenv()\n",
    "if ENV_FILE:\n",
    "    load_dotenv(ENV_FILE)\n",
    "    \n",
    "api_key = env.get('BITGET_API_KEY')\n",
    "api_passphrase = env.get('BITGET_API_PASSPHRASE')\n",
    "api_secret = env.get('BITGET_API_SECRET')"
   ]
  },
  {
   "cell_type": "markdown",
   "id": "c44c987c-c8ac-4d0f-80fb-d89a1683a115",
   "metadata": {},
   "source": [
    "#### Get timestamp"
   ]
  },
  {
   "cell_type": "code",
   "execution_count": 5,
   "id": "2daa4929-e4ac-45cf-9138-9c22ecaeafcc",
   "metadata": {},
   "outputs": [],
   "source": [
    "def get_timestamp():\n",
    "    return int(time.time() * 1000)"
   ]
  },
  {
   "cell_type": "markdown",
   "id": "d39bf096-9fcf-445c-97ae-73d133a8a2c9",
   "metadata": {},
   "source": [
    "#### Set signature"
   ]
  },
  {
   "cell_type": "code",
   "execution_count": 6,
   "id": "00254f79-6bbb-4f32-a4b2-f55b6e751c09",
   "metadata": {},
   "outputs": [],
   "source": [
    "def sign(message, secret_key):\n",
    "    mac = hmac.new(bytes(secret_key, encoding='utf-8'), bytes(message, encoding='utf-8'), digestmod='sha256')\n",
    "    d = mac.digest()\n",
    "    return base64.b64encode(d)"
   ]
  },
  {
   "cell_type": "markdown",
   "id": "10129789-b566-4eaa-8864-01fea32d42a7",
   "metadata": {},
   "source": [
    "#### Set pre-hash"
   ]
  },
  {
   "cell_type": "code",
   "execution_count": 7,
   "id": "1e49538a-5289-4520-9b39-21cbdd652986",
   "metadata": {},
   "outputs": [],
   "source": [
    "def pre_hash(timestamp, method, request_path, body):\n",
    "    return str(timestamp) + str.upper(method) + request_path + body"
   ]
  },
  {
   "cell_type": "markdown",
   "id": "87999ed8-7228-4bb4-a521-4692b20f5e06",
   "metadata": {},
   "source": [
    "#### Parse parameters to string"
   ]
  },
  {
   "cell_type": "code",
   "execution_count": 8,
   "id": "7e005780-a0e4-44d6-b0c1-0587b332e168",
   "metadata": {},
   "outputs": [],
   "source": [
    "def parse_params_to_str(params):\n",
    "    url = '?'\n",
    "    for key, value in params.items():\n",
    "        url = url + str(key) + '=' + str(value) + '&'\n",
    "\n",
    "    return url[0:-1]"
   ]
  },
  {
   "cell_type": "markdown",
   "id": "eb031a71-fa93-4d68-82d7-8bfb53150980",
   "metadata": {},
   "source": [
    "#### Get headers"
   ]
  },
  {
   "cell_type": "code",
   "execution_count": 9,
   "id": "9196d77e-4fa8-4484-a3a6-b73409754e23",
   "metadata": {},
   "outputs": [],
   "source": [
    "def get_headers(api_key, api_passphrase, api_secret, body, method, params, request_path):\n",
    "    timestamp = str(get_timestamp())\n",
    "    content = timestamp + method + request_path + parse_params_to_str(params)\n",
    "    signature = sign(content, api_secret)\n",
    "    headers = {\n",
    "        \"Content-Type\": 'application/json',\n",
    "        \"ACCESS-KEY\": api_key,\n",
    "        \"ACCESS-SIGN\": signature,\n",
    "        \"ACCESS-TIMESTAMP\": timestamp,\n",
    "        \"ACCESS-PASSPHRASE\": api_passphrase,\n",
    "        \"locale\": 'en-US',\n",
    "    }\n",
    "    return headers"
   ]
  },
  {
   "cell_type": "markdown",
   "id": "93e201c3-5dba-4e88-b86c-49046cfc5105",
   "metadata": {},
   "source": [
    "#### GET accounts"
   ]
  },
  {
   "cell_type": "code",
   "execution_count": 10,
   "id": "9f83f984-29d5-41b9-a6cb-1b183e26264b",
   "metadata": {},
   "outputs": [
    {
     "data": {
      "text/plain": [
       "{'code': '00000',\n",
       " 'msg': 'success',\n",
       " 'requestTime': 1686325752239,\n",
       " 'data': [{'marginCoin': 'USDT',\n",
       "   'locked': '0',\n",
       "   'available': '1200.77892388',\n",
       "   'crossMaxAvailable': '153.97275608',\n",
       "   'fixedMaxAvailable': '153.97275608',\n",
       "   'maxTransferOut': '153.97275608',\n",
       "   'equity': '402.66964388',\n",
       "   'usdtEquity': '402.669643884783',\n",
       "   'btcEquity': '0.0151811857',\n",
       "   'crossRiskRate': '0.160390382243',\n",
       "   'unrealizedPL': '-798.10928000401',\n",
       "   'bonus': '0'}]}"
      ]
     },
     "execution_count": 10,
     "metadata": {},
     "output_type": "execute_result"
    }
   ],
   "source": [
    "def get_accounts(api_key, api_passphrase, api_secret):\n",
    "    body = \"\"\n",
    "    method = 'GET'\n",
    "    params = {'productType':'UMCBL'}\n",
    "    request_path = '/api/mix/v1/account/accounts'\n",
    "    header = get_headers(api_key, api_passphrase, api_secret, body, method, params, request_path)\n",
    "    url = 'https://api.bitget.com' + request_path + parse_params_to_str(params)\n",
    "    response = requests.get(url, headers=header)\n",
    "    if response.status_code == 200:\n",
    "        balances = response.json()\n",
    "        return balances\n",
    "    else:\n",
    "        print('Failed to get accounts. Error code:', response.status_code)\n",
    "        return None\n",
    "\n",
    "get_accounts(api_key, api_passphrase, api_secret)"
   ]
  },
  {
   "cell_type": "code",
   "execution_count": null,
   "id": "7ffd08e8-520c-4e81-bfab-522a649ec7fd",
   "metadata": {},
   "outputs": [],
   "source": []
  }
 ],
 "metadata": {
  "kernelspec": {
   "display_name": "Python 3 (ipykernel)",
   "language": "python",
   "name": "python3"
  },
  "language_info": {
   "codemirror_mode": {
    "name": "ipython",
    "version": 3
   },
   "file_extension": ".py",
   "mimetype": "text/x-python",
   "name": "python",
   "nbconvert_exporter": "python",
   "pygments_lexer": "ipython3",
   "version": "3.9.16"
  }
 },
 "nbformat": 4,
 "nbformat_minor": 5
}
