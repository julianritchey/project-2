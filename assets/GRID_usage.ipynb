{
 "cells": [
  {
   "cell_type": "code",
   "execution_count": 1,
   "id": "2b28f157-8740-4283-9a1f-17a8b1dc5280",
   "metadata": {
    "tags": []
   },
   "outputs": [
    {
     "name": "stdout",
     "output_type": "stream",
     "text": [
      "[*********************100%***********************]  1 of 1 completed\n",
      "Backtest Result:\n",
      "Initial Cash: 200000\n",
      "Final Value: 253003.6\n",
      "Profits: 53003.6\n",
      "Return Rate: 26.5%\n",
      "Annualized Return: 1526.49%\n",
      "          Date Action Quantity       Price\n",
      "0   2023-01-03    Buy     1000  125.070000\n",
      "1   2023-01-04   Sell       10  126.360001\n",
      "2   2023-01-05    Buy       10  125.019997\n",
      "3   2023-01-06   Sell       10  129.619995\n",
      "4   2023-01-09   Sell       10  130.149994\n",
      "..         ...    ...      ...         ...\n",
      "106 2023-06-07    Buy       10  177.820007\n",
      "107 2023-06-08   Sell       10  180.570007\n",
      "108 2023-06-09   Sell       10  180.960007\n",
      "109 2023-06-12   Sell       10  183.789993\n",
      "110 2023-06-13    Buy       10  183.309998\n",
      "\n",
      "[111 rows x 4 columns]\n"
     ]
    }
   ],
   "source": [
    "from grid_strategy import grid_trading_strategy\n",
    "\n",
    "# Example usage\n",
    "symbol = 'AAPL'\n",
    "test_start_date = '2023-01-01'\n",
    "test_end_date= '2023-06-14'\n",
    "\n",
    "trade_records = grid_trading_strategy(symbol, test_start_date, test_end_date)"
   ]
  },
  {
   "cell_type": "code",
   "execution_count": null,
   "id": "15c08321-899b-4fc0-a8e8-ec63b07dd0da",
   "metadata": {},
   "outputs": [],
   "source": []
  }
 ],
 "metadata": {
  "kernelspec": {
   "display_name": "Python 3 (ipykernel)",
   "language": "python",
   "name": "python3"
  },
  "language_info": {
   "codemirror_mode": {
    "name": "ipython",
    "version": 3
   },
   "file_extension": ".py",
   "mimetype": "text/x-python",
   "name": "python",
   "nbconvert_exporter": "python",
   "pygments_lexer": "ipython3",
   "version": "3.9.16"
  }
 },
 "nbformat": 4,
 "nbformat_minor": 5
}
