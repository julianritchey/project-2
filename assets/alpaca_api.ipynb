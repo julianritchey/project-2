{
 "cells": [
  {
   "cell_type": "code",
   "execution_count": 25,
   "id": "f7d756bd-433f-476a-b33c-e131df2ce035",
   "metadata": {},
   "outputs": [],
   "source": [
    "import base64\n",
    "import hmac\n",
    "import json\n",
    "import time\n",
    "import hashlib\n",
    "import requests\n",
    "import pandas as pd\n",
    "from dotenv import find_dotenv, load_dotenv\n",
    "import os\n",
    "from os import environ as env\n",
    "from alpaca.trading.client import TradingClient\n",
    "from alpaca.trading.enums import AssetClass\n",
    "from alpaca.trading.enums import OrderSide, TimeInForce\n",
    "from alpaca.trading.requests import MarketOrderRequest\n",
    "from alpaca.trading.requests import GetAssetsRequest\n",
    "from alpaca.data.historical import CryptoHistoricalDataClient, StockHistoricalDataClient\n",
    "from alpaca.data.requests import CryptoBarsRequest, StockBarsRequest\n",
    "from alpaca.data.timeframe import TimeFrame\n",
    "import websocket\n",
    "import _thread\n",
    "import time\n",
    "import rel"
   ]
  },
  {
   "cell_type": "code",
   "execution_count": 26,
   "id": "6866ec71-ea12-4df7-9990-13e43ea0d04f",
   "metadata": {},
   "outputs": [],
   "source": [
    "# Load .env file\n",
    "ENV_FILE = find_dotenv()\n",
    "if ENV_FILE:\n",
    "    load_dotenv(ENV_FILE)\n",
    "    \n",
    "api_key = env.get('ALPACA_API_KEY')\n",
    "api_secret = env.get('ALPACA_SECRET_KEY')"
   ]
  },
  {
   "cell_type": "markdown",
   "id": "93e201c3-5dba-4e88-b86c-49046cfc5105",
   "metadata": {},
   "source": [
    "#### GET accounts"
   ]
  },
  {
   "cell_type": "code",
   "execution_count": 3,
   "id": "9f83f984-29d5-41b9-a6cb-1b183e26264b",
   "metadata": {},
   "outputs": [],
   "source": [
    "def get_accounts(api_key, api_secret):\n",
    "    trading_client = TradingClient(api_key, api_secret, paper=True)\n",
    "    account = trading_client.get_account()\n",
    "    account_data = {}\n",
    "    for property_name, value in account:\n",
    "        account_data[property_name] = f\"{value}\"\n",
    "    return [account_data]"
   ]
  },
  {
   "cell_type": "markdown",
   "id": "20682190-172a-48bb-8940-b3ef94e5f081",
   "metadata": {},
   "source": [
    "#### GET list of assets"
   ]
  },
  {
   "cell_type": "code",
   "execution_count": 5,
   "id": "d33cd697-40c5-4eab-b8ba-efbb23e2aeba",
   "metadata": {
    "tags": []
   },
   "outputs": [],
   "source": [
    "def get_assets(api_key, api_secret):\n",
    "    trading_client = TradingClient(api_key, api_secret)\n",
    "    \n",
    "    # search for US equities\n",
    "    search_params = GetAssetsRequest(asset_class=AssetClass.US_EQUITY)\n",
    "    assets = trading_client.get_all_assets(search_params)\n",
    "    return assets"
   ]
  },
  {
   "cell_type": "markdown",
   "id": "604631ce-c751-4316-bb72-13f72132582f",
   "metadata": {},
   "source": [
    "#### GET asset information"
   ]
  },
  {
   "cell_type": "code",
   "execution_count": 11,
   "id": "6774dd02-0872-46f9-b5b8-34519f8377cc",
   "metadata": {
    "tags": []
   },
   "outputs": [],
   "source": [
    "def get_asset(api_key, api_secret, symbol):\n",
    "    trading_client = TradingClient(api_key, api_secret)\n",
    "    asset = trading_client.get_asset(symbol)\n",
    "    asset_data = {}\n",
    "    for property_name, value in asset:\n",
    "        asset_data[property_name] = f\"{value}\"\n",
    "    return asset_data"
   ]
  },
  {
   "cell_type": "markdown",
   "id": "0129c029-3746-4bb0-a98b-80f08f6ab010",
   "metadata": {},
   "source": [
    "#### SUBMIT order"
   ]
  },
  {
   "cell_type": "code",
   "execution_count": null,
   "id": "b1e1bc46-3863-4373-932e-af201dfd425c",
   "metadata": {
    "tags": []
   },
   "outputs": [],
   "source": [
    "def submit_order(order_data):\n",
    "    order = trading_client.submit_order(order_data)\n",
    "    for property_name, value in order:\n",
    "        print(f\"\\\"{property_name}\\\": {value}\")"
   ]
  },
  {
   "cell_type": "markdown",
   "id": "83ae2597-799b-4d74-9588-2ea665725f0d",
   "metadata": {},
   "source": [
    "#### MARKET order"
   ]
  },
  {
   "cell_type": "code",
   "execution_count": null,
   "id": "71486a8d-e1f5-40f6-a250-1bbea0bd116a",
   "metadata": {
    "tags": []
   },
   "outputs": [],
   "source": [
    "def market_buy_order(api_key, api_secret, symbol, quantity, direction):\n",
    "    trading_client = TradingClient(API_KEY, SECRET_KEY, paper=True)\n",
    "    if direction == 'buy':\n",
    "        side = OrderSide.BUY\n",
    "    elif direction == 'sell':\n",
    "        side = OrderSide.SELL\n",
    "    market_order_data = MarketOrderRequest(\n",
    "        symbol=symbol,\n",
    "        qty=quantity,\n",
    "        side=side,\n",
    "        time_in_force=TimeInForce.GTC\n",
    "    )\n",
    "    submit_order(market_order_data)"
   ]
  },
  {
   "cell_type": "markdown",
   "id": "4a9fc371-faba-4455-bd1e-c6d60cfad639",
   "metadata": {},
   "source": [
    "#### LIMIT order"
   ]
  },
  {
   "cell_type": "code",
   "execution_count": null,
   "id": "e4de1788-c1a8-4a40-afc6-2cf27c319161",
   "metadata": {},
   "outputs": [],
   "source": [
    "def limit_buy_order(api_key, api_secret, symbol, price, notional, direction):\n",
    "    trading_client = TradingClient(API_KEY, SECRET_KEY, paper=True)\n",
    "    if direction == 'buy':\n",
    "        side = OrderSide.BUY\n",
    "    elif direction == 'sell':\n",
    "        side = OrderSide.SELL\n",
    "    limit_order_data = LimitOrderRequest(\n",
    "        symbol=symbol,\n",
    "        limit_price=price,\n",
    "        notional=notional,\n",
    "        side=side,\n",
    "        time_in_force=TimeInForce.FOK\n",
    "    )\n",
    "    submit_order(limit_order_data)"
   ]
  },
  {
   "cell_type": "markdown",
   "id": "2a64b6a9-d1ab-4775-a6f5-7abcb57093d2",
   "metadata": {},
   "source": [
    "#### To be implemented: Websocket streaming"
   ]
  },
  {
   "cell_type": "code",
   "execution_count": 28,
   "id": "c35985f3-5344-4b78-8bea-e0b814d2a4e1",
   "metadata": {
    "tags": []
   },
   "outputs": [
    {
     "name": "stdout",
     "output_type": "stream",
     "text": [
      "closed connection\n"
     ]
    }
   ],
   "source": [
    "def ws_api(api_key, api_secret):\n",
    "    def on_open(ws):\n",
    "        print(\"opened\")\n",
    "        auth_data = {\n",
    "            'action': 'authenticate',\n",
    "            'data': {\n",
    "                'key_id': api_key,\n",
    "                'secret_key': api_secret\n",
    "            }\n",
    "        }\n",
    "        \n",
    "        ws.send(json.dumps(auth_data))\n",
    "        \n",
    "        listen_message = {\n",
    "            \"action\": \"listen\",\n",
    "            \"data\": {\n",
    "                \"streams\": [\"T.SPY\"]\n",
    "            }\n",
    "        }\n",
    "        \n",
    "        ws.send(json.dumps(listen_message))\n",
    "        \n",
    "    def on_message(ws, message):\n",
    "        print(\"received a message\")\n",
    "        print(message)\n",
    "        \n",
    "    def on_close(ws):\n",
    "        print(\"closed connection\")\n",
    "        \n",
    "    socket = \"wss://paper-api.alpaca.markets/stream\"\n",
    "    \n",
    "    ws = websocket.WebSocketApp(socket, on_open=on_open, on_message=on_message, on_close=on_close)\n",
    "    ws.run_forever()\n",
    "\n",
    "ws_api(api_key, api_secret)"
   ]
  },
  {
   "cell_type": "code",
   "execution_count": null,
   "id": "7ffd08e8-520c-4e81-bfab-522a649ec7fd",
   "metadata": {},
   "outputs": [],
   "source": [
    "def open_data_stream(api_key, api_secret):\n",
    "    def on_message(ws, message):\n",
    "        print(message)\n",
    "\n",
    "    def on_error(wsapp, err):\n",
    "        print(\"Got an error: \", err)\n",
    "\n",
    "    def on_close(ws, close_status_code, close_msg):\n",
    "        print(\"### closed ###\")\n",
    "\n",
    "    def on_open(ws):\n",
    "        print(\"Opened connection\")\n",
    "    \n",
    "    if __name__ == \"__main__\":\n",
    "        websocket.enableTrace(True)\n",
    "        ws = websocket.WebSocketApp(\"wss://stream.data.alpaca.markets/v2/iex\",\n",
    "                                  on_open=on_open,\n",
    "                                  on_message=on_message,\n",
    "                                  on_error=on_error,\n",
    "                                  on_close=on_close)\n",
    "\n",
    "        #ws.run_forever()\n",
    "    ws.close()\n",
    "\n",
    "#     wsapp = websocket.WebSocketApp(\"wss://paper-api.alpaca.markets/stream\",\n",
    "#                                    on_message = on_message,\n",
    "#                                    on_error=on_error)\n",
    "#     wsapp.run_forever()\n",
    "    \n",
    "#     base_url = 'https://paper-api.alpaca.markets'\n",
    "#     ws_url = 'wss://paper-api.alpaca.markets/stream'\n",
    "    \n",
    "#     conn = tradeapi.stream2.StreamConn(\n",
    "#         api_key,\n",
    "#         api_secret,\n",
    "#         base_url=base_url,\n",
    "#         data_url=ws_url,\n",
    "#         data_stream='alpacadatav1'\n",
    "#     )\n",
    "#     @conn.on(r'^T.AAPL$')\n",
    "#     async def trade_info(conn, channel, bar):\n",
    "#         print('bars', bar)\n",
    "#         print(bar._raw)\n",
    "\n",
    "open_data_stream(api_key, api_secret)"
   ]
  },
  {
   "cell_type": "code",
   "execution_count": 19,
   "id": "1438e48e-4186-4e3a-b298-9c7987d5890b",
   "metadata": {
    "tags": []
   },
   "outputs": [
    {
     "name": "stdout",
     "output_type": "stream",
     "text": [
      "echo.websocket.events sponsored by Lob.com\n",
      "Got an error:  Connection is already closed.\n"
     ]
    },
    {
     "data": {
      "text/plain": [
       "True"
      ]
     },
     "execution_count": 19,
     "metadata": {},
     "output_type": "execute_result"
    }
   ],
   "source": [
    "def on_message(ws, message):\n",
    "    print(message)\n",
    "\n",
    "def on_error(wsapp, err):\n",
    "    print(\"Got an error: \", err)\n",
    "\n",
    "def on_close(ws, close_status_code, close_msg):\n",
    "    print(\"### closed ###\")\n",
    "\n",
    "def on_open(ws):\n",
    "    print(\"Opened connection\")\n",
    "\n",
    "wsapp = websocket.WebSocketApp(\"ws://echo.websocket.events/\",\n",
    "                               on_message = on_message,\n",
    "                               on_error=on_error)\n",
    "#wsapp.run_forever()\n",
    "wsapp.close()"
   ]
  },
  {
   "cell_type": "code",
   "execution_count": null,
   "id": "b4a89e22-5fb1-4b33-9edd-142bb5eed685",
   "metadata": {},
   "outputs": [],
   "source": []
  }
 ],
 "metadata": {
  "kernelspec": {
   "display_name": "Python 3 (ipykernel)",
   "language": "python",
   "name": "python3"
  },
  "language_info": {
   "codemirror_mode": {
    "name": "ipython",
    "version": 3
   },
   "file_extension": ".py",
   "mimetype": "text/x-python",
   "name": "python",
   "nbconvert_exporter": "python",
   "pygments_lexer": "ipython3",
   "version": "3.9.16"
  }
 },
 "nbformat": 4,
 "nbformat_minor": 5
}
