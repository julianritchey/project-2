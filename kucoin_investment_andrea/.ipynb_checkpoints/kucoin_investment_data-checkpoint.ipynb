{
 "cells": [
  {
   "cell_type": "code",
   "execution_count": 1,
   "id": "e3d98f36-b4ec-4339-ab7a-e6b7a4739691",
   "metadata": {},
   "outputs": [],
   "source": [
    "### Investment data\n",
    "#Real investment kucoin investment data \n",
    "#Initialize investments.ipynb file in Resources folder.\n",
    "# Prepare API calls for investment data collection.\n",
    "# Pull investment data from first exchange.\n",
    "# Organize investment data.\n",
    "# Pull investment data from remaining exchanges.\n",
    "# Organize investment data from remaining exchanges"
   ]
  },
  {
   "cell_type": "code",
   "execution_count": 3,
   "id": "f7d756bd-433f-476a-b33c-e131df2ce035",
   "metadata": {},
   "outputs": [],
   "source": [
    "import datetime\n",
    "import time\n",
    "import base64\n",
    "import hmac\n",
    "import hashlib\n",
    "import requests\n",
    "import json\n",
    "import pandas as pd\n",
    "from dotenv import load_dotenv\n",
    "import os\n",
    "\n",
    "\n",
    "%matplotlib inline\n",
    "\n",
    "# silence warnings\n",
    "import warnings\n",
    "warnings.filterwarnings('ignore')"
   ]
  },
  {
   "cell_type": "code",
   "execution_count": 4,
   "id": "d62b3ebe-e20b-469b-aa49-471c4a437d7d",
   "metadata": {},
   "outputs": [
    {
     "data": {
      "text/plain": [
       "True"
      ]
     },
     "execution_count": 4,
     "metadata": {},
     "output_type": "execute_result"
    }
   ],
   "source": [
    "dotenv_path = 'C:/Desktop/my_gitrepos/project-2/kucoin_data/k.env'\n",
    "load_dotenv(dotenv_path)"
   ]
  },
  {
   "cell_type": "code",
   "execution_count": 5,
   "id": "6866ec71-ea12-4df7-9990-13e43ea0d04f",
   "metadata": {},
   "outputs": [],
   "source": [
    "api_key = os.getenv('KUCOIN_api_key')\n",
    "api_secret = os.getenv('KUCOIN_api_secret')\n",
    "api_passphrase = os.getenv('KUCOIN_api_passphrase')"
   ]
  },
  {
   "cell_type": "code",
   "execution_count": 6,
   "id": "9196d77e-4fa8-4484-a3a6-b73409754e23",
   "metadata": {},
   "outputs": [],
   "source": [
    "def get_headers(url, method):\n",
    "    now = int(time.time() * 1000)\n",
    "    str_to_sign = str(now) + method + url\n",
    "    signature = base64.b64encode(\n",
    "        hmac.new(api_secret.encode('utf-8'), str_to_sign.encode('utf-8'), hashlib.sha256).digest())\n",
    "    passphrase = base64.b64encode(\n",
    "        hmac.new(api_secret.encode('utf-8'), api_passphrase.encode('utf-8'), hashlib.sha256).digest())\n",
    "    headers = {\n",
    "        \"KC-API-SIGN\": signature,\n",
    "        \"KC-API-TIMESTAMP\": str(now),\n",
    "        \"KC-API-KEY\": api_key,\n",
    "        \"KC-API-PASSPHRASE\": passphrase,\n",
    "        \"KC-API-KEY-VERSION\": \"2\"\n",
    "    }\n",
    "    return headers\n",
    "\n",
    "def get_account_balance():\n",
    "    url = '/api/v1/accounts'\n",
    "    headers = get_headers(url, 'GET')\n",
    "    response = requests.get('https://api.kucoin.com' + url, headers=headers)\n",
    "    if response.status_code == 200:\n",
    "        balances = response.json()['data']\n",
    "        return balances\n",
    "    else:\n",
    "        print('Failed to get account balances. Error code:', response.status_code)\n",
    "        return None"
   ]
  },
  {
   "cell_type": "code",
   "execution_count": 7,
   "id": "a83845c4-fbc5-4451-b2f4-3ba2ef9712cd",
   "metadata": {},
   "outputs": [
    {
     "data": {
      "text/plain": [
       "[{'id': '625a8e24c3c51b0001e1a13a',\n",
       "  'currency': 'ROUTE',\n",
       "  'type': 'trade',\n",
       "  'balance': '3729.2422',\n",
       "  'available': '3729.2422',\n",
       "  'holds': '0'},\n",
       " {'id': '62d85e5b501cb3000163af50',\n",
       "  'currency': 'ATOM',\n",
       "  'type': 'trade',\n",
       "  'balance': '50',\n",
       "  'available': '50',\n",
       "  'holds': '0'},\n",
       " {'id': '62d854f9cf97b00001868262',\n",
       "  'currency': 'API3',\n",
       "  'type': 'trade',\n",
       "  'balance': '235',\n",
       "  'available': '235',\n",
       "  'holds': '0'},\n",
       " {'id': '62d8bdda975dca0001f55ac0',\n",
       "  'currency': 'KNC',\n",
       "  'type': 'trade',\n",
       "  'balance': '142.316',\n",
       "  'available': '142.316',\n",
       "  'holds': '0'},\n",
       " {'id': '6259aad5a560990001c98ddb',\n",
       "  'currency': 'USDT',\n",
       "  'type': 'trade',\n",
       "  'balance': '0.00007904',\n",
       "  'available': '0.00007904',\n",
       "  'holds': '0'},\n",
       " {'id': '62599d12c750d100018732c2',\n",
       "  'currency': 'USDT',\n",
       "  'type': 'main',\n",
       "  'balance': '0',\n",
       "  'available': '0',\n",
       "  'holds': '0'}]"
      ]
     },
     "execution_count": 7,
     "metadata": {},
     "output_type": "execute_result"
    }
   ],
   "source": [
    "get_account_balance()"
   ]
  },
  {
   "cell_type": "code",
   "execution_count": 8,
   "id": "c27a5a36-55d7-4576-b029-9bcb0a3e472f",
   "metadata": {},
   "outputs": [
    {
     "data": {
      "text/html": [
       "<div>\n",
       "<style scoped>\n",
       "    .dataframe tbody tr th:only-of-type {\n",
       "        vertical-align: middle;\n",
       "    }\n",
       "\n",
       "    .dataframe tbody tr th {\n",
       "        vertical-align: top;\n",
       "    }\n",
       "\n",
       "    .dataframe thead th {\n",
       "        text-align: right;\n",
       "    }\n",
       "</style>\n",
       "<table border=\"1\" class=\"dataframe\">\n",
       "  <thead>\n",
       "    <tr style=\"text-align: right;\">\n",
       "      <th></th>\n",
       "      <th>currency</th>\n",
       "      <th>balance</th>\n",
       "      <th>available</th>\n",
       "      <th>holds</th>\n",
       "    </tr>\n",
       "  </thead>\n",
       "  <tbody>\n",
       "    <tr>\n",
       "      <th>0</th>\n",
       "      <td>ROUTE</td>\n",
       "      <td>3729.2422</td>\n",
       "      <td>3729.2422</td>\n",
       "      <td>0</td>\n",
       "    </tr>\n",
       "    <tr>\n",
       "      <th>1</th>\n",
       "      <td>ATOM</td>\n",
       "      <td>50</td>\n",
       "      <td>50</td>\n",
       "      <td>0</td>\n",
       "    </tr>\n",
       "    <tr>\n",
       "      <th>2</th>\n",
       "      <td>API3</td>\n",
       "      <td>235</td>\n",
       "      <td>235</td>\n",
       "      <td>0</td>\n",
       "    </tr>\n",
       "    <tr>\n",
       "      <th>3</th>\n",
       "      <td>KNC</td>\n",
       "      <td>142.316</td>\n",
       "      <td>142.316</td>\n",
       "      <td>0</td>\n",
       "    </tr>\n",
       "    <tr>\n",
       "      <th>4</th>\n",
       "      <td>USDT</td>\n",
       "      <td>0.00007904</td>\n",
       "      <td>0.00007904</td>\n",
       "      <td>0</td>\n",
       "    </tr>\n",
       "  </tbody>\n",
       "</table>\n",
       "</div>"
      ],
      "text/plain": [
       "  currency     balance   available holds\n",
       "0    ROUTE   3729.2422   3729.2422     0\n",
       "1     ATOM          50          50     0\n",
       "2     API3         235         235     0\n",
       "3      KNC     142.316     142.316     0\n",
       "4     USDT  0.00007904  0.00007904     0"
      ]
     },
     "execution_count": 8,
     "metadata": {},
     "output_type": "execute_result"
    }
   ],
   "source": [
    "balances = get_account_balance()\n",
    "df = pd.DataFrame(balances)\n",
    "account_data= df[['currency', 'balance', 'available','holds']]\n",
    "account_data.head()"
   ]
  },
  {
   "cell_type": "code",
   "execution_count": 9,
   "id": "d998ee31-ee42-41b6-92bd-dc0e2af55f68",
   "metadata": {},
   "outputs": [
    {
     "data": {
      "text/html": [
       "<div>\n",
       "<style scoped>\n",
       "    .dataframe tbody tr th:only-of-type {\n",
       "        vertical-align: middle;\n",
       "    }\n",
       "\n",
       "    .dataframe tbody tr th {\n",
       "        vertical-align: top;\n",
       "    }\n",
       "\n",
       "    .dataframe thead th {\n",
       "        text-align: right;\n",
       "    }\n",
       "</style>\n",
       "<table border=\"1\" class=\"dataframe\">\n",
       "  <thead>\n",
       "    <tr style=\"text-align: right;\">\n",
       "      <th></th>\n",
       "      <th>currency</th>\n",
       "      <th>balance</th>\n",
       "      <th>available</th>\n",
       "      <th>holds</th>\n",
       "    </tr>\n",
       "  </thead>\n",
       "  <tbody>\n",
       "    <tr>\n",
       "      <th>0</th>\n",
       "      <td>ROUTE</td>\n",
       "      <td>3729.2422</td>\n",
       "      <td>3729.2422</td>\n",
       "      <td>0</td>\n",
       "    </tr>\n",
       "    <tr>\n",
       "      <th>1</th>\n",
       "      <td>ATOM</td>\n",
       "      <td>50</td>\n",
       "      <td>50</td>\n",
       "      <td>0</td>\n",
       "    </tr>\n",
       "    <tr>\n",
       "      <th>2</th>\n",
       "      <td>API3</td>\n",
       "      <td>235</td>\n",
       "      <td>235</td>\n",
       "      <td>0</td>\n",
       "    </tr>\n",
       "    <tr>\n",
       "      <th>3</th>\n",
       "      <td>KNC</td>\n",
       "      <td>142.316</td>\n",
       "      <td>142.316</td>\n",
       "      <td>0</td>\n",
       "    </tr>\n",
       "    <tr>\n",
       "      <th>4</th>\n",
       "      <td>USDT</td>\n",
       "      <td>0.00007904</td>\n",
       "      <td>0.00007904</td>\n",
       "      <td>0</td>\n",
       "    </tr>\n",
       "  </tbody>\n",
       "</table>\n",
       "</div>"
      ],
      "text/plain": [
       "  currency     balance   available holds\n",
       "0    ROUTE   3729.2422   3729.2422     0\n",
       "1     ATOM          50          50     0\n",
       "2     API3         235         235     0\n",
       "3      KNC     142.316     142.316     0\n",
       "4     USDT  0.00007904  0.00007904     0"
      ]
     },
     "execution_count": 9,
     "metadata": {},
     "output_type": "execute_result"
    }
   ],
   "source": [
    "account_data.head()"
   ]
  },
  {
   "cell_type": "code",
   "execution_count": 10,
   "id": "41ed171b-8c08-4827-a4a2-02171828810f",
   "metadata": {},
   "outputs": [],
   "source": [
    "def get_ticker(symbol):\n",
    "    url = f'/api/v1/market/orderbook/level1?symbol={symbol}'\n",
    "    headers = get_headers(url, 'GET')\n",
    "    response = requests.get('https://api.kucoin.com' + url, headers=headers)\n",
    "    if response.status_code == 200:\n",
    "        ticker_data = response.json()\n",
    "        return ticker_data['data']\n",
    "    else:\n",
    "        print('Failed to get ticker data for symbol', symbol, '. Error code:', response.status_code)\n",
    "        return None"
   ]
  },
  {
   "cell_type": "code",
   "execution_count": 11,
   "id": "fbc4ad57-9f9a-4d8f-ac00-11bd58598ebf",
   "metadata": {},
   "outputs": [
    {
     "data": {
      "text/plain": [
       "{'time': 1685013133126,\n",
       " 'sequence': '197889995',\n",
       " 'price': '0.5938',\n",
       " 'size': '0.1817',\n",
       " 'bestBid': '0.5977',\n",
       " 'bestBidSize': '333',\n",
       " 'bestAsk': '0.5994',\n",
       " 'bestAskSize': '4900.0384'}"
      ]
     },
     "execution_count": 11,
     "metadata": {},
     "output_type": "execute_result"
    }
   ],
   "source": [
    "get_ticker('KNC-USDT')"
   ]
  },
  {
   "cell_type": "code",
   "execution_count": 12,
   "id": "94ebdd95-603d-4178-804b-696f6c5a2286",
   "metadata": {},
   "outputs": [],
   "source": [
    "def get_all_tickers():\n",
    "    url = '/api/v1/market/allTickers'\n",
    "    headers = get_headers(url, 'GET')\n",
    "    response = requests.get('https://api.kucoin.com' + url, headers=headers)\n",
    "    if response.status_code == 200:\n",
    "        ticker_data = json.loads(response.text)\n",
    "        return ticker_data\n",
    "    else:\n",
    "        print('Failed to get ticker data. Error code:', response.status_code)"
   ]
  },
  {
   "cell_type": "code",
   "execution_count": 13,
   "id": "234f36cf-980d-49f3-8836-9f2e5b872be5",
   "metadata": {},
   "outputs": [],
   "source": [
    "#get_all_tickers()"
   ]
  },
  {
   "cell_type": "code",
   "execution_count": 14,
   "id": "0b6118d9-d95c-4baf-8088-baec53afb45a",
   "metadata": {},
   "outputs": [],
   "source": [
    "def get_symbols():\n",
    "    url = '/api/v2/symbols'\n",
    "    headers = get_headers(url, 'GET')\n",
    "    response = requests.request('get', 'https://api.kucoin.com'+url, headers=headers)\n",
    "    if response.status_code == 200:\n",
    "        symbols_data = response.json()['data']\n",
    "        symbols_df = pd.DataFrame(symbols_data)\n",
    "        return symbols_df\n",
    "    else:\n",
    "        print('Failed to get symbols data. Error code:', response.status_code)       "
   ]
  },
  {
   "cell_type": "code",
   "execution_count": 15,
   "id": "46e16b6e-7e2e-44b3-b1cc-e35b53f7e523",
   "metadata": {},
   "outputs": [
    {
     "data": {
      "text/html": [
       "<div>\n",
       "<style scoped>\n",
       "    .dataframe tbody tr th:only-of-type {\n",
       "        vertical-align: middle;\n",
       "    }\n",
       "\n",
       "    .dataframe tbody tr th {\n",
       "        vertical-align: top;\n",
       "    }\n",
       "\n",
       "    .dataframe thead th {\n",
       "        text-align: right;\n",
       "    }\n",
       "</style>\n",
       "<table border=\"1\" class=\"dataframe\">\n",
       "  <thead>\n",
       "    <tr style=\"text-align: right;\">\n",
       "      <th></th>\n",
       "      <th>symbol</th>\n",
       "      <th>name</th>\n",
       "      <th>baseCurrency</th>\n",
       "      <th>quoteCurrency</th>\n",
       "      <th>feeCurrency</th>\n",
       "      <th>market</th>\n",
       "      <th>baseMinSize</th>\n",
       "      <th>quoteMinSize</th>\n",
       "      <th>baseMaxSize</th>\n",
       "      <th>quoteMaxSize</th>\n",
       "      <th>baseIncrement</th>\n",
       "      <th>quoteIncrement</th>\n",
       "      <th>priceIncrement</th>\n",
       "      <th>priceLimitRate</th>\n",
       "      <th>minFunds</th>\n",
       "      <th>isMarginEnabled</th>\n",
       "      <th>enableTrading</th>\n",
       "    </tr>\n",
       "  </thead>\n",
       "  <tbody>\n",
       "    <tr>\n",
       "      <th>0</th>\n",
       "      <td>LOKI-BTC</td>\n",
       "      <td>OXEN-BTC</td>\n",
       "      <td>LOKI</td>\n",
       "      <td>BTC</td>\n",
       "      <td>BTC</td>\n",
       "      <td>BTC</td>\n",
       "      <td>0.1</td>\n",
       "      <td>0.00001</td>\n",
       "      <td>10000000000</td>\n",
       "      <td>99999999</td>\n",
       "      <td>0.0001</td>\n",
       "      <td>0.000000001</td>\n",
       "      <td>0.000000001</td>\n",
       "      <td>0.1</td>\n",
       "      <td>0.000001</td>\n",
       "      <td>False</td>\n",
       "      <td>True</td>\n",
       "    </tr>\n",
       "    <tr>\n",
       "      <th>1</th>\n",
       "      <td>LOKI-ETH</td>\n",
       "      <td>OXEN-ETH</td>\n",
       "      <td>LOKI</td>\n",
       "      <td>ETH</td>\n",
       "      <td>ETH</td>\n",
       "      <td>ALTS</td>\n",
       "      <td>0.1</td>\n",
       "      <td>0.0001</td>\n",
       "      <td>10000000000</td>\n",
       "      <td>99999999</td>\n",
       "      <td>0.0001</td>\n",
       "      <td>0.0000001</td>\n",
       "      <td>0.0000001</td>\n",
       "      <td>0.1</td>\n",
       "      <td>0.00001</td>\n",
       "      <td>False</td>\n",
       "      <td>True</td>\n",
       "    </tr>\n",
       "    <tr>\n",
       "      <th>2</th>\n",
       "      <td>NRG-BTC</td>\n",
       "      <td>NRG-BTC</td>\n",
       "      <td>NRG</td>\n",
       "      <td>BTC</td>\n",
       "      <td>BTC</td>\n",
       "      <td>BTC</td>\n",
       "      <td>0.01</td>\n",
       "      <td>0.00001</td>\n",
       "      <td>10000000000</td>\n",
       "      <td>99999999</td>\n",
       "      <td>0.0001</td>\n",
       "      <td>0.00000001</td>\n",
       "      <td>0.00000001</td>\n",
       "      <td>0.1</td>\n",
       "      <td>0.000001</td>\n",
       "      <td>False</td>\n",
       "      <td>True</td>\n",
       "    </tr>\n",
       "    <tr>\n",
       "      <th>3</th>\n",
       "      <td>AVA-USDT</td>\n",
       "      <td>AVA-USDT</td>\n",
       "      <td>AVA</td>\n",
       "      <td>USDT</td>\n",
       "      <td>USDT</td>\n",
       "      <td>USDS</td>\n",
       "      <td>0.1</td>\n",
       "      <td>0.01</td>\n",
       "      <td>10000000000</td>\n",
       "      <td>99999999</td>\n",
       "      <td>0.0001</td>\n",
       "      <td>0.000001</td>\n",
       "      <td>0.000001</td>\n",
       "      <td>0.1</td>\n",
       "      <td>0.1</td>\n",
       "      <td>False</td>\n",
       "      <td>True</td>\n",
       "    </tr>\n",
       "    <tr>\n",
       "      <th>4</th>\n",
       "      <td>FET-BTC</td>\n",
       "      <td>FET-BTC</td>\n",
       "      <td>FET</td>\n",
       "      <td>BTC</td>\n",
       "      <td>BTC</td>\n",
       "      <td>BTC</td>\n",
       "      <td>0.1</td>\n",
       "      <td>0.00001</td>\n",
       "      <td>10000000000</td>\n",
       "      <td>99999999</td>\n",
       "      <td>0.0001</td>\n",
       "      <td>0.000000001</td>\n",
       "      <td>0.000000001</td>\n",
       "      <td>0.1</td>\n",
       "      <td>0.000001</td>\n",
       "      <td>False</td>\n",
       "      <td>True</td>\n",
       "    </tr>\n",
       "    <tr>\n",
       "      <th>...</th>\n",
       "      <td>...</td>\n",
       "      <td>...</td>\n",
       "      <td>...</td>\n",
       "      <td>...</td>\n",
       "      <td>...</td>\n",
       "      <td>...</td>\n",
       "      <td>...</td>\n",
       "      <td>...</td>\n",
       "      <td>...</td>\n",
       "      <td>...</td>\n",
       "      <td>...</td>\n",
       "      <td>...</td>\n",
       "      <td>...</td>\n",
       "      <td>...</td>\n",
       "      <td>...</td>\n",
       "      <td>...</td>\n",
       "      <td>...</td>\n",
       "    </tr>\n",
       "    <tr>\n",
       "      <th>1343</th>\n",
       "      <td>BOB-USDT</td>\n",
       "      <td>BOB-USDT</td>\n",
       "      <td>BOB</td>\n",
       "      <td>USDT</td>\n",
       "      <td>USDT</td>\n",
       "      <td>USDS</td>\n",
       "      <td>10000</td>\n",
       "      <td>0.1</td>\n",
       "      <td>10000000000</td>\n",
       "      <td>99999999</td>\n",
       "      <td>0.0001</td>\n",
       "      <td>0.00000001</td>\n",
       "      <td>0.00000001</td>\n",
       "      <td>0.1</td>\n",
       "      <td>0.1</td>\n",
       "      <td>False</td>\n",
       "      <td>True</td>\n",
       "    </tr>\n",
       "    <tr>\n",
       "      <th>1344</th>\n",
       "      <td>LADYS-USDT</td>\n",
       "      <td>LADYS-USDT</td>\n",
       "      <td>LADYS</td>\n",
       "      <td>USDT</td>\n",
       "      <td>USDT</td>\n",
       "      <td>USDS</td>\n",
       "      <td>10000000</td>\n",
       "      <td>0.1</td>\n",
       "      <td>1000000000000</td>\n",
       "      <td>99999999</td>\n",
       "      <td>0.00001</td>\n",
       "      <td>0.00000000001</td>\n",
       "      <td>0.00000000001</td>\n",
       "      <td>0.1</td>\n",
       "      <td>0.1</td>\n",
       "      <td>False</td>\n",
       "      <td>True</td>\n",
       "    </tr>\n",
       "    <tr>\n",
       "      <th>1345</th>\n",
       "      <td>RFD-USDT</td>\n",
       "      <td>RFD-USDT</td>\n",
       "      <td>RFD</td>\n",
       "      <td>USDT</td>\n",
       "      <td>USDT</td>\n",
       "      <td>USDS</td>\n",
       "      <td>10000</td>\n",
       "      <td>0.1</td>\n",
       "      <td>10000000000</td>\n",
       "      <td>99999999</td>\n",
       "      <td>0.0001</td>\n",
       "      <td>0.00000001</td>\n",
       "      <td>0.00000001</td>\n",
       "      <td>0.1</td>\n",
       "      <td>0.1</td>\n",
       "      <td>False</td>\n",
       "      <td>True</td>\n",
       "    </tr>\n",
       "    <tr>\n",
       "      <th>1346</th>\n",
       "      <td>TENET-USDT</td>\n",
       "      <td>TENET-USDT</td>\n",
       "      <td>TENET</td>\n",
       "      <td>USDT</td>\n",
       "      <td>USDT</td>\n",
       "      <td>USDS</td>\n",
       "      <td>10</td>\n",
       "      <td>0.1</td>\n",
       "      <td>10000000000</td>\n",
       "      <td>99999999</td>\n",
       "      <td>0.0001</td>\n",
       "      <td>0.00001</td>\n",
       "      <td>0.00001</td>\n",
       "      <td>0.1</td>\n",
       "      <td>0.1</td>\n",
       "      <td>False</td>\n",
       "      <td>True</td>\n",
       "    </tr>\n",
       "    <tr>\n",
       "      <th>1347</th>\n",
       "      <td>HIBAKC-USDT</td>\n",
       "      <td>HIBAKC-USDT</td>\n",
       "      <td>HIBAKC</td>\n",
       "      <td>USDT</td>\n",
       "      <td>USDT</td>\n",
       "      <td>USDS</td>\n",
       "      <td>10</td>\n",
       "      <td>0.1</td>\n",
       "      <td>10000000000</td>\n",
       "      <td>99999999</td>\n",
       "      <td>0.0001</td>\n",
       "      <td>0.000001</td>\n",
       "      <td>0.000001</td>\n",
       "      <td>0.1</td>\n",
       "      <td>0.1</td>\n",
       "      <td>False</td>\n",
       "      <td>True</td>\n",
       "    </tr>\n",
       "  </tbody>\n",
       "</table>\n",
       "<p>1348 rows × 17 columns</p>\n",
       "</div>"
      ],
      "text/plain": [
       "           symbol         name baseCurrency quoteCurrency feeCurrency market   \n",
       "0        LOKI-BTC     OXEN-BTC         LOKI           BTC         BTC    BTC  \\\n",
       "1        LOKI-ETH     OXEN-ETH         LOKI           ETH         ETH   ALTS   \n",
       "2         NRG-BTC      NRG-BTC          NRG           BTC         BTC    BTC   \n",
       "3        AVA-USDT     AVA-USDT          AVA          USDT        USDT   USDS   \n",
       "4         FET-BTC      FET-BTC          FET           BTC         BTC    BTC   \n",
       "...           ...          ...          ...           ...         ...    ...   \n",
       "1343     BOB-USDT     BOB-USDT          BOB          USDT        USDT   USDS   \n",
       "1344   LADYS-USDT   LADYS-USDT        LADYS          USDT        USDT   USDS   \n",
       "1345     RFD-USDT     RFD-USDT          RFD          USDT        USDT   USDS   \n",
       "1346   TENET-USDT   TENET-USDT        TENET          USDT        USDT   USDS   \n",
       "1347  HIBAKC-USDT  HIBAKC-USDT       HIBAKC          USDT        USDT   USDS   \n",
       "\n",
       "     baseMinSize quoteMinSize    baseMaxSize quoteMaxSize baseIncrement   \n",
       "0            0.1      0.00001    10000000000     99999999        0.0001  \\\n",
       "1            0.1       0.0001    10000000000     99999999        0.0001   \n",
       "2           0.01      0.00001    10000000000     99999999        0.0001   \n",
       "3            0.1         0.01    10000000000     99999999        0.0001   \n",
       "4            0.1      0.00001    10000000000     99999999        0.0001   \n",
       "...          ...          ...            ...          ...           ...   \n",
       "1343       10000          0.1    10000000000     99999999        0.0001   \n",
       "1344    10000000          0.1  1000000000000     99999999       0.00001   \n",
       "1345       10000          0.1    10000000000     99999999        0.0001   \n",
       "1346          10          0.1    10000000000     99999999        0.0001   \n",
       "1347          10          0.1    10000000000     99999999        0.0001   \n",
       "\n",
       "     quoteIncrement priceIncrement priceLimitRate  minFunds  isMarginEnabled   \n",
       "0       0.000000001    0.000000001            0.1  0.000001            False  \\\n",
       "1         0.0000001      0.0000001            0.1   0.00001            False   \n",
       "2        0.00000001     0.00000001            0.1  0.000001            False   \n",
       "3          0.000001       0.000001            0.1       0.1            False   \n",
       "4       0.000000001    0.000000001            0.1  0.000001            False   \n",
       "...             ...            ...            ...       ...              ...   \n",
       "1343     0.00000001     0.00000001            0.1       0.1            False   \n",
       "1344  0.00000000001  0.00000000001            0.1       0.1            False   \n",
       "1345     0.00000001     0.00000001            0.1       0.1            False   \n",
       "1346        0.00001        0.00001            0.1       0.1            False   \n",
       "1347       0.000001       0.000001            0.1       0.1            False   \n",
       "\n",
       "      enableTrading  \n",
       "0              True  \n",
       "1              True  \n",
       "2              True  \n",
       "3              True  \n",
       "4              True  \n",
       "...             ...  \n",
       "1343           True  \n",
       "1344           True  \n",
       "1345           True  \n",
       "1346           True  \n",
       "1347           True  \n",
       "\n",
       "[1348 rows x 17 columns]"
      ]
     },
     "execution_count": 15,
     "metadata": {},
     "output_type": "execute_result"
    }
   ],
   "source": [
    "get_symbols()"
   ]
  },
  {
   "cell_type": "code",
   "execution_count": 16,
   "id": "03647c5d-fb1b-4002-82a1-52a83a30eace",
   "metadata": {},
   "outputs": [
    {
     "data": {
      "text/html": [
       "<div>\n",
       "<style scoped>\n",
       "    .dataframe tbody tr th:only-of-type {\n",
       "        vertical-align: middle;\n",
       "    }\n",
       "\n",
       "    .dataframe tbody tr th {\n",
       "        vertical-align: top;\n",
       "    }\n",
       "\n",
       "    .dataframe thead th {\n",
       "        text-align: right;\n",
       "    }\n",
       "</style>\n",
       "<table border=\"1\" class=\"dataframe\">\n",
       "  <thead>\n",
       "    <tr style=\"text-align: right;\">\n",
       "      <th></th>\n",
       "      <th>name</th>\n",
       "      <th>base_currency</th>\n",
       "      <th>quote_currency</th>\n",
       "      <th>fee_currency</th>\n",
       "      <th>market</th>\n",
       "    </tr>\n",
       "    <tr>\n",
       "      <th>symbol</th>\n",
       "      <th></th>\n",
       "      <th></th>\n",
       "      <th></th>\n",
       "      <th></th>\n",
       "      <th></th>\n",
       "    </tr>\n",
       "  </thead>\n",
       "  <tbody>\n",
       "    <tr>\n",
       "      <th>BOB-USDT</th>\n",
       "      <td>BOB-USDT</td>\n",
       "      <td>BOB</td>\n",
       "      <td>USDT</td>\n",
       "      <td>USDT</td>\n",
       "      <td>USDS</td>\n",
       "    </tr>\n",
       "    <tr>\n",
       "      <th>LADYS-USDT</th>\n",
       "      <td>LADYS-USDT</td>\n",
       "      <td>LADYS</td>\n",
       "      <td>USDT</td>\n",
       "      <td>USDT</td>\n",
       "      <td>USDS</td>\n",
       "    </tr>\n",
       "    <tr>\n",
       "      <th>RFD-USDT</th>\n",
       "      <td>RFD-USDT</td>\n",
       "      <td>RFD</td>\n",
       "      <td>USDT</td>\n",
       "      <td>USDT</td>\n",
       "      <td>USDS</td>\n",
       "    </tr>\n",
       "    <tr>\n",
       "      <th>TENET-USDT</th>\n",
       "      <td>TENET-USDT</td>\n",
       "      <td>TENET</td>\n",
       "      <td>USDT</td>\n",
       "      <td>USDT</td>\n",
       "      <td>USDS</td>\n",
       "    </tr>\n",
       "    <tr>\n",
       "      <th>HIBAKC-USDT</th>\n",
       "      <td>HIBAKC-USDT</td>\n",
       "      <td>HIBAKC</td>\n",
       "      <td>USDT</td>\n",
       "      <td>USDT</td>\n",
       "      <td>USDS</td>\n",
       "    </tr>\n",
       "  </tbody>\n",
       "</table>\n",
       "</div>"
      ],
      "text/plain": [
       "                    name base_currency quote_currency fee_currency market\n",
       "symbol                                                                   \n",
       "BOB-USDT        BOB-USDT           BOB           USDT         USDT   USDS\n",
       "LADYS-USDT    LADYS-USDT         LADYS           USDT         USDT   USDS\n",
       "RFD-USDT        RFD-USDT           RFD           USDT         USDT   USDS\n",
       "TENET-USDT    TENET-USDT         TENET           USDT         USDT   USDS\n",
       "HIBAKC-USDT  HIBAKC-USDT        HIBAKC           USDT         USDT   USDS"
      ]
     },
     "execution_count": 16,
     "metadata": {},
     "output_type": "execute_result"
    }
   ],
   "source": [
    "def clean_symbols_data(symbols_df):\n",
    "    symbols_df = symbols_df.loc[:, ['symbol', 'name', 'baseCurrency', 'quoteCurrency', 'feeCurrency', 'market']]\n",
    "    symbols_df = symbols_df.rename(columns={\n",
    "        'baseCurrency': 'base_currency',\n",
    "        'quoteCurrency': 'quote_currency',\n",
    "        'feeCurrency': 'fee_currency',\n",
    "    })\n",
    "    symbols_df = symbols_df.set_index('symbol')\n",
    "    return symbols_df\n",
    "symbols_df = get_symbols()\n",
    "symbols_cleaned_df = clean_symbols_data(symbols_df)\n",
    "symbols_cleaned_df.head()\n",
    "symbols_cleaned_df.tail()"
   ]
  },
  {
   "cell_type": "code",
   "execution_count": 17,
   "id": "dd9625f8-18b2-4e34-9c1e-6c2833d2ffbd",
   "metadata": {},
   "outputs": [],
   "source": [
    "def get_symbols_pair():\n",
    "    symbols_df = get_symbols()\n",
    "    return symbols_df['symbol']"
   ]
  },
  {
   "cell_type": "code",
   "execution_count": 18,
   "id": "c28a5e2e-1a81-427c-a481-19dc2aebc1ad",
   "metadata": {},
   "outputs": [
    {
     "data": {
      "text/plain": [
       "0          LOKI-BTC\n",
       "1          LOKI-ETH\n",
       "2           NRG-BTC\n",
       "3          AVA-USDT\n",
       "4           FET-BTC\n",
       "           ...     \n",
       "1343       BOB-USDT\n",
       "1344     LADYS-USDT\n",
       "1345       RFD-USDT\n",
       "1346     TENET-USDT\n",
       "1347    HIBAKC-USDT\n",
       "Name: symbol, Length: 1348, dtype: object"
      ]
     },
     "execution_count": 18,
     "metadata": {},
     "output_type": "execute_result"
    }
   ],
   "source": [
    "get_symbols_pair()"
   ]
  },
  {
   "cell_type": "code",
   "execution_count": 19,
   "id": "cb6324a2-b79c-4f16-bdfc-d4ccaad1700b",
   "metadata": {},
   "outputs": [],
   "source": [
    "def get_base_currency():\n",
    "    symbols_df = get_symbols()\n",
    "    return symbols_df['baseCurrency']"
   ]
  },
  {
   "cell_type": "code",
   "execution_count": 20,
   "id": "ebd4ca16-e2e6-4ba6-b226-896c929eec3b",
   "metadata": {},
   "outputs": [
    {
     "data": {
      "text/plain": [
       "0         LOKI\n",
       "1         LOKI\n",
       "2          NRG\n",
       "3          AVA\n",
       "4          FET\n",
       "         ...  \n",
       "1343       BOB\n",
       "1344     LADYS\n",
       "1345       RFD\n",
       "1346     TENET\n",
       "1347    HIBAKC\n",
       "Name: baseCurrency, Length: 1348, dtype: object"
      ]
     },
     "execution_count": 20,
     "metadata": {},
     "output_type": "execute_result"
    }
   ],
   "source": [
    "get_base_currency()"
   ]
  },
  {
   "cell_type": "code",
   "execution_count": 21,
   "id": "43685f5f-7cf0-4044-927b-5278656f3d7e",
   "metadata": {},
   "outputs": [],
   "source": [
    "def get_quote_currency():\n",
    "    symbols_df = get_symbols()\n",
    "    return symbols_df['quoteCurrency']"
   ]
  },
  {
   "cell_type": "code",
   "execution_count": 22,
   "id": "99b7126e-18e0-4bdd-af16-d596860bcb23",
   "metadata": {},
   "outputs": [
    {
     "data": {
      "text/plain": [
       "0        BTC\n",
       "1        ETH\n",
       "2        BTC\n",
       "3       USDT\n",
       "4        BTC\n",
       "        ... \n",
       "1343    USDT\n",
       "1344    USDT\n",
       "1345    USDT\n",
       "1346    USDT\n",
       "1347    USDT\n",
       "Name: quoteCurrency, Length: 1348, dtype: object"
      ]
     },
     "execution_count": 22,
     "metadata": {},
     "output_type": "execute_result"
    }
   ],
   "source": [
    "get_quote_currency()"
   ]
  },
  {
   "cell_type": "code",
   "execution_count": 23,
   "id": "993369ae-16fb-46a4-8693-806165407d5b",
   "metadata": {},
   "outputs": [],
   "source": [
    "def get_deposit_list(currency=None, page=None, pageSize=None):\n",
    "    url = '/api/v1/deposits'\n",
    "    headers = get_headers(url, 'GET')\n",
    "    params = {}\n",
    "    if currency:\n",
    "        params['currency'] = currency\n",
    "    if page:\n",
    "        params['page'] = page\n",
    "    if pageSize:\n",
    "        params['pageSize'] = pageSize\n",
    "    \n",
    "    response = requests.get('https://api.kucoin.com' + url, headers=headers, params=params)\n",
    "    if response.status_code == 200:\n",
    "        deposit_list = response.json()\n",
    "        return deposit_list\n",
    "    else:\n",
    "        print('Failed to get deposit list. Error code:', response.status_code)"
   ]
  },
  {
   "cell_type": "code",
   "execution_count": 24,
   "id": "56a3d308-0c3b-4279-8d02-5aedb2d3984a",
   "metadata": {},
   "outputs": [
    {
     "data": {
      "text/plain": [
       "{'code': '200000',\n",
       " 'data': {'currentPage': 1,\n",
       "  'pageSize': 50,\n",
       "  'totalNum': 2,\n",
       "  'totalPage': 1,\n",
       "  'items': [{'currency': 'USDT',\n",
       "    'chain': 'eth',\n",
       "    'status': 'SUCCESS',\n",
       "    'address': '0x6771e5ff1bd0e575efa15464b12dc0956b4803ec',\n",
       "    'memo': '',\n",
       "    'isInner': False,\n",
       "    'amount': '1145.81000000',\n",
       "    'fee': '0.00000000',\n",
       "    'walletTxId': '0x5c3dd119172a19303d4dea59259a6a00d40e26b6a97c55986cde1ce616f555c4@1e998a0ab8a81db064bd0780da57c071',\n",
       "    'createdAt': 1656513999000,\n",
       "    'updatedAt': 1656514119000,\n",
       "    'remark': 'Deposit',\n",
       "    'arrears': False},\n",
       "   {'currency': 'USDT',\n",
       "    'chain': 'trx',\n",
       "    'status': 'SUCCESS',\n",
       "    'address': 'TZ88wBT8mZcD88q7o3dxuLYsvM7tfz21SU',\n",
       "    'memo': '',\n",
       "    'isInner': False,\n",
       "    'amount': '13078.45270000',\n",
       "    'fee': '0.00000000',\n",
       "    'walletTxId': 'fef93e1a0cc9998eb87530a0eadc6d2d22de2859ba2f6a928646b9277dc2a1c4@9f03b5d10da04073eb4fdf99e5ad0a12',\n",
       "    'createdAt': 1650040082000,\n",
       "    'updatedAt': 1650040082000,\n",
       "    'remark': 'Deposit',\n",
       "    'arrears': False}]}}"
      ]
     },
     "execution_count": 24,
     "metadata": {},
     "output_type": "execute_result"
    }
   ],
   "source": [
    "get_deposit_list()"
   ]
  },
  {
   "cell_type": "code",
   "execution_count": 25,
   "id": "ff0ff070-e8a8-4c00-b20d-91f5c2e8c2e2",
   "metadata": {},
   "outputs": [],
   "source": [
    "def get_base_fee():\n",
    "    url = '/api/v1/base-fee'\n",
    "    headers = get_headers(url, 'GET')\n",
    "    response = requests.get('https://api.kucoin.com'+url, headers=headers)\n",
    "    if response.status_code == 200:\n",
    "        fees_data = response.json()['data']\n",
    "        fees_df = pd.DataFrame(fees_data, index=[0])\n",
    "        return fees_df\n",
    "    else:\n",
    "        print('Failed to get trade fees data. Error code:', response.status_code)"
   ]
  },
  {
   "cell_type": "code",
   "execution_count": 26,
   "id": "780e7b78-3591-4f1a-b130-ecfe4143dff3",
   "metadata": {},
   "outputs": [
    {
     "data": {
      "text/html": [
       "<div>\n",
       "<style scoped>\n",
       "    .dataframe tbody tr th:only-of-type {\n",
       "        vertical-align: middle;\n",
       "    }\n",
       "\n",
       "    .dataframe tbody tr th {\n",
       "        vertical-align: top;\n",
       "    }\n",
       "\n",
       "    .dataframe thead th {\n",
       "        text-align: right;\n",
       "    }\n",
       "</style>\n",
       "<table border=\"1\" class=\"dataframe\">\n",
       "  <thead>\n",
       "    <tr style=\"text-align: right;\">\n",
       "      <th></th>\n",
       "      <th>takerFeeRate</th>\n",
       "      <th>makerFeeRate</th>\n",
       "    </tr>\n",
       "  </thead>\n",
       "  <tbody>\n",
       "    <tr>\n",
       "      <th>0</th>\n",
       "      <td>0.001</td>\n",
       "      <td>0.001</td>\n",
       "    </tr>\n",
       "  </tbody>\n",
       "</table>\n",
       "</div>"
      ],
      "text/plain": [
       "  takerFeeRate makerFeeRate\n",
       "0        0.001        0.001"
      ]
     },
     "execution_count": 26,
     "metadata": {},
     "output_type": "execute_result"
    }
   ],
   "source": [
    "get_base_fee()"
   ]
  },
  {
   "cell_type": "code",
   "execution_count": 27,
   "id": "2b687f8e-2bad-488d-8536-cdd0bdc8b79c",
   "metadata": {},
   "outputs": [],
   "source": [
    "def get_actual_fee_rate(symbol):\n",
    "    url = '/api/v1/trade-fees'\n",
    "    headers = get_headers(url, 'GET')\n",
    "    response = requests.get('https://api.kucoin.com'+url+'?symbols='+symbol, headers=headers)\n",
    "    if response.status_code == 200:\n",
    "        fees_data = response.json()['data']\n",
    "        fees_df = pd.DataFrame(fees_data)\n",
    "        return fees_df\n",
    "    else:\n",
    "        print('Failed to get actual fee rate data. Error code:', response.status_code)"
   ]
  },
  {
   "cell_type": "code",
   "execution_count": 28,
   "id": "58b7b92a-e5e0-435c-ac3f-cba5cc3500b7",
   "metadata": {},
   "outputs": [
    {
     "name": "stdout",
     "output_type": "stream",
     "text": [
      "Failed to get actual fee rate data. Error code: 401\n"
     ]
    }
   ],
   "source": [
    "get_actual_fee_rate('KNC-USDT')"
   ]
  },
  {
   "cell_type": "code",
   "execution_count": 29,
   "id": "28fdb9a5-4eed-4cc8-9a35-8edbabf04f1c",
   "metadata": {},
   "outputs": [],
   "source": [
    "def get_24hr_stats(symbol):\n",
    "    url = 'https://api.kucoin.com/api/v1/market/stats'\n",
    "    params = {'symbol': symbol}\n",
    "    response = requests.get(url, params=params)\n",
    "    data = json.loads(response.text)['data']\n",
    "    return data"
   ]
  },
  {
   "cell_type": "code",
   "execution_count": 30,
   "id": "80141d39-ce2d-497a-9954-de2c354f55cb",
   "metadata": {},
   "outputs": [
    {
     "data": {
      "text/plain": [
       "{'time': 1685019200619,\n",
       " 'symbol': 'KNC-USDT',\n",
       " 'buy': '0.5977',\n",
       " 'sell': '0.5994',\n",
       " 'changeRate': '-0.0287',\n",
       " 'changePrice': '-0.0176',\n",
       " 'high': '0.6119',\n",
       " 'low': '0.5824',\n",
       " 'vol': '10832.2635',\n",
       " 'volValue': '6452.61904874',\n",
       " 'last': '0.5938',\n",
       " 'averagePrice': '0.61221686',\n",
       " 'takerFeeRate': '0.001',\n",
       " 'makerFeeRate': '0.001',\n",
       " 'takerCoefficient': '1',\n",
       " 'makerCoefficient': '1'}"
      ]
     },
     "execution_count": 30,
     "metadata": {},
     "output_type": "execute_result"
    }
   ],
   "source": [
    "get_24hr_stats('KNC-USDT')"
   ]
  },
  {
   "cell_type": "code",
   "execution_count": 31,
   "id": "da0a7446-0dce-4562-993c-59f3322b297f",
   "metadata": {},
   "outputs": [],
   "source": [
    "def get_market_list():\n",
    "    endpoint = 'https://api.kucoin.com/api/v1/markets'\n",
    "    response = requests.get(endpoint)\n",
    "    data = json.loads(response.content)\n",
    "    markets = data['data']\n",
    "    print(markets)"
   ]
  },
  {
   "cell_type": "code",
   "execution_count": 32,
   "id": "2f39dd61-69f0-453b-a762-052c48eb45b1",
   "metadata": {},
   "outputs": [
    {
     "name": "stdout",
     "output_type": "stream",
     "text": [
      "['USDS', 'BTC', 'ALTS', 'ETF', 'KCS', 'Meme', 'Hong-Kong', 'FIAT', 'Arbitrum', 'DeFi', 'Shanghai-Upgrade', 'NFT', 'AI', 'Polkadot', 'Layer 1', 'NFT-ETF']\n"
     ]
    }
   ],
   "source": [
    "get_market_list()"
   ]
  },
  {
   "cell_type": "code",
   "execution_count": 33,
   "id": "8ec91f94-245b-43d0-aa07-7bd3a9fcb282",
   "metadata": {},
   "outputs": [],
   "source": [
    "def get_trade_histories(symbol):\n",
    "    url = 'https://api.kucoin.com/api/v1/market/histories?symbol={}'.format(symbol)\n",
    "    response = requests.get(url)\n",
    "    if response.status_code == 200:\n",
    "        return response.json()['data']\n",
    "    else:\n",
    "        return None"
   ]
  },
  {
   "cell_type": "code",
   "execution_count": 52,
   "id": "cd0b3528-f2e9-4ded-acc0-3504899b26e9",
   "metadata": {},
   "outputs": [],
   "source": [
    "#get_trade_histories('KNC-BTC')"
   ]
  },
  {
   "cell_type": "code",
   "execution_count": 35,
   "id": "3b887656-b709-48bc-8af8-e8d117abe098",
   "metadata": {},
   "outputs": [],
   "source": [
    "def get_currencies():\n",
    "    url = '/api/v1/currencies'\n",
    "    response = requests.get('https://api.kucoin.com' + url)\n",
    "    if response.status_code == 200:\n",
    "        currencies_data = response.json()\n",
    "        return currencies_data\n",
    "    else:\n",
    "        print('Failed to get currencies data. Error code:', response.status_code)"
   ]
  },
  {
   "cell_type": "code",
   "execution_count": 36,
   "id": "b7a50235-462a-42f5-a7a9-bee46d25cda3",
   "metadata": {},
   "outputs": [],
   "source": [
    "#get_currencies()"
   ]
  },
  {
   "cell_type": "code",
   "execution_count": 37,
   "id": "2d3a50c7-680b-4396-b1c5-6163bf6433d1",
   "metadata": {},
   "outputs": [],
   "source": [
    "def get_fiat_price(symbol):\n",
    "    url = 'https://api.kucoin.com/api/v1/prices'\n",
    "    params = {\"symbols\": symbol}\n",
    "    response = requests.get(url, params=params)\n",
    "\n",
    "    if response.status_code == 200:\n",
    "        data = response.json()['data']\n",
    "        return float(data[symbol])\n",
    "    else:\n",
    "        print(f\"Failed to get {symbol} price. Error code:\", response.status_code)"
   ]
  },
  {
   "cell_type": "code",
   "execution_count": 38,
   "id": "f82a59b1-aaa0-4da9-ad14-dbd3902bf46f",
   "metadata": {},
   "outputs": [
    {
     "data": {
      "text/plain": [
       "0.9998"
      ]
     },
     "execution_count": 38,
     "metadata": {},
     "output_type": "execute_result"
    }
   ],
   "source": [
    "get_fiat_price('USDT')"
   ]
  },
  {
   "cell_type": "code",
   "execution_count": 53,
   "id": "5bc5cfcf-45d2-4e34-9112-74435b4b87dc",
   "metadata": {},
   "outputs": [],
   "source": [
    "def get_klines(symbol, interval='1day'):\n",
    "    url = f'https://api.kucoin.com/api/v1/market/candles?type={interval}&symbol={symbol}'\n",
    "    response = requests.get(url)\n",
    "    if response.status_code == 200:\n",
    "        data = response.json()['data']\n",
    "        klines_data = pd.DataFrame(data, columns=['time', 'open', 'close', 'high', 'low', 'volume', 'turnover'])\n",
    "        klines_data['time'] = pd.to_datetime(klines_data['time'], unit='ms')\n",
    "        klines_data.set_index('time', inplace=True)\n",
    "        klines_data = klines_data.astype(float)\n",
    "        return klines_data\n",
    "    else:\n",
    "        print(f'Failed to get {symbol} Klines data. Error code:', response.status_code)\n",
    "        return None"
   ]
  },
  {
   "cell_type": "code",
   "execution_count": 54,
   "id": "13ca0cf3-8e8b-49b0-a3d2-5ce6879585d1",
   "metadata": {},
   "outputs": [
    {
     "data": {
      "text/html": [
       "<div>\n",
       "<style scoped>\n",
       "    .dataframe tbody tr th:only-of-type {\n",
       "        vertical-align: middle;\n",
       "    }\n",
       "\n",
       "    .dataframe tbody tr th {\n",
       "        vertical-align: top;\n",
       "    }\n",
       "\n",
       "    .dataframe thead th {\n",
       "        text-align: right;\n",
       "    }\n",
       "</style>\n",
       "<table border=\"1\" class=\"dataframe\">\n",
       "  <thead>\n",
       "    <tr style=\"text-align: right;\">\n",
       "      <th></th>\n",
       "      <th>open</th>\n",
       "      <th>close</th>\n",
       "      <th>high</th>\n",
       "      <th>low</th>\n",
       "      <th>volume</th>\n",
       "      <th>turnover</th>\n",
       "    </tr>\n",
       "    <tr>\n",
       "      <th>time</th>\n",
       "      <th></th>\n",
       "      <th></th>\n",
       "      <th></th>\n",
       "      <th></th>\n",
       "      <th></th>\n",
       "      <th></th>\n",
       "    </tr>\n",
       "  </thead>\n",
       "  <tbody>\n",
       "    <tr>\n",
       "      <th>1970-01-20 12:02:52.800</th>\n",
       "      <td>26328.3</td>\n",
       "      <td>26302.4</td>\n",
       "      <td>26489.9</td>\n",
       "      <td>25871.2</td>\n",
       "      <td>2280.091418</td>\n",
       "      <td>5.980918e+07</td>\n",
       "    </tr>\n",
       "    <tr>\n",
       "      <th>1970-01-20 12:01:26.400</th>\n",
       "      <td>27219.4</td>\n",
       "      <td>26328.2</td>\n",
       "      <td>27219.4</td>\n",
       "      <td>26086.0</td>\n",
       "      <td>3329.016103</td>\n",
       "      <td>8.834830e+07</td>\n",
       "    </tr>\n",
       "    <tr>\n",
       "      <th>1970-01-20 12:00:00.000</th>\n",
       "      <td>26846.1</td>\n",
       "      <td>27219.4</td>\n",
       "      <td>27480.0</td>\n",
       "      <td>26800.0</td>\n",
       "      <td>3295.821547</td>\n",
       "      <td>8.976906e+07</td>\n",
       "    </tr>\n",
       "    <tr>\n",
       "      <th>1970-01-20 11:58:33.600</th>\n",
       "      <td>26744.7</td>\n",
       "      <td>26846.1</td>\n",
       "      <td>27095.1</td>\n",
       "      <td>26539.5</td>\n",
       "      <td>2117.441439</td>\n",
       "      <td>5.680578e+07</td>\n",
       "    </tr>\n",
       "    <tr>\n",
       "      <th>1970-01-20 11:57:07.200</th>\n",
       "      <td>27104.8</td>\n",
       "      <td>26744.7</td>\n",
       "      <td>27279.4</td>\n",
       "      <td>26655.2</td>\n",
       "      <td>1550.885030</td>\n",
       "      <td>4.177792e+07</td>\n",
       "    </tr>\n",
       "  </tbody>\n",
       "</table>\n",
       "</div>"
      ],
      "text/plain": [
       "                            open    close     high      low       volume   \n",
       "time                                                                       \n",
       "1970-01-20 12:02:52.800  26328.3  26302.4  26489.9  25871.2  2280.091418  \\\n",
       "1970-01-20 12:01:26.400  27219.4  26328.2  27219.4  26086.0  3329.016103   \n",
       "1970-01-20 12:00:00.000  26846.1  27219.4  27480.0  26800.0  3295.821547   \n",
       "1970-01-20 11:58:33.600  26744.7  26846.1  27095.1  26539.5  2117.441439   \n",
       "1970-01-20 11:57:07.200  27104.8  26744.7  27279.4  26655.2  1550.885030   \n",
       "\n",
       "                             turnover  \n",
       "time                                   \n",
       "1970-01-20 12:02:52.800  5.980918e+07  \n",
       "1970-01-20 12:01:26.400  8.834830e+07  \n",
       "1970-01-20 12:00:00.000  8.976906e+07  \n",
       "1970-01-20 11:58:33.600  5.680578e+07  \n",
       "1970-01-20 11:57:07.200  4.177792e+07  "
      ]
     },
     "execution_count": 54,
     "metadata": {},
     "output_type": "execute_result"
    }
   ],
   "source": [
    "symbol = 'BTC-USDT'\n",
    "interval = '1day'\n",
    "klines_data = get_klines(symbol, interval)\n",
    "klines_data.head()"
   ]
  },
  {
   "cell_type": "code",
   "execution_count": 41,
   "id": "d4ef3c1a-c94d-4828-8ddf-834f1235830b",
   "metadata": {},
   "outputs": [],
   "source": [
    "def get_investment_data(url='/api/v1/accounts'):\n",
    "    headers = get_headers(url, 'GET')\n",
    "    response = requests.get(f'https://api.kucoin.com{url}', headers=headers)\n",
    "    if response.status_code == 200:\n",
    "        data = response.json()\n",
    "        return pd.DataFrame(data['data'])\n",
    "    else:\n",
    "        print(f\"Failed to get investment data. Error code: {response.status_code}\")\n",
    "        return None"
   ]
  },
  {
   "cell_type": "code",
   "execution_count": 42,
   "id": "9d26cc0d-51d6-4609-8adb-a740bf9f0413",
   "metadata": {},
   "outputs": [
    {
     "data": {
      "text/html": [
       "<div>\n",
       "<style scoped>\n",
       "    .dataframe tbody tr th:only-of-type {\n",
       "        vertical-align: middle;\n",
       "    }\n",
       "\n",
       "    .dataframe tbody tr th {\n",
       "        vertical-align: top;\n",
       "    }\n",
       "\n",
       "    .dataframe thead th {\n",
       "        text-align: right;\n",
       "    }\n",
       "</style>\n",
       "<table border=\"1\" class=\"dataframe\">\n",
       "  <thead>\n",
       "    <tr style=\"text-align: right;\">\n",
       "      <th></th>\n",
       "      <th>id</th>\n",
       "      <th>currency</th>\n",
       "      <th>type</th>\n",
       "      <th>balance</th>\n",
       "      <th>available</th>\n",
       "      <th>holds</th>\n",
       "    </tr>\n",
       "  </thead>\n",
       "  <tbody>\n",
       "    <tr>\n",
       "      <th>0</th>\n",
       "      <td>625a8e24c3c51b0001e1a13a</td>\n",
       "      <td>ROUTE</td>\n",
       "      <td>trade</td>\n",
       "      <td>3729.2422</td>\n",
       "      <td>3729.2422</td>\n",
       "      <td>0</td>\n",
       "    </tr>\n",
       "    <tr>\n",
       "      <th>1</th>\n",
       "      <td>62d85e5b501cb3000163af50</td>\n",
       "      <td>ATOM</td>\n",
       "      <td>trade</td>\n",
       "      <td>50</td>\n",
       "      <td>50</td>\n",
       "      <td>0</td>\n",
       "    </tr>\n",
       "    <tr>\n",
       "      <th>2</th>\n",
       "      <td>62d854f9cf97b00001868262</td>\n",
       "      <td>API3</td>\n",
       "      <td>trade</td>\n",
       "      <td>235</td>\n",
       "      <td>235</td>\n",
       "      <td>0</td>\n",
       "    </tr>\n",
       "    <tr>\n",
       "      <th>3</th>\n",
       "      <td>62d8bdda975dca0001f55ac0</td>\n",
       "      <td>KNC</td>\n",
       "      <td>trade</td>\n",
       "      <td>142.316</td>\n",
       "      <td>142.316</td>\n",
       "      <td>0</td>\n",
       "    </tr>\n",
       "    <tr>\n",
       "      <th>4</th>\n",
       "      <td>6259aad5a560990001c98ddb</td>\n",
       "      <td>USDT</td>\n",
       "      <td>trade</td>\n",
       "      <td>0.00007904</td>\n",
       "      <td>0.00007904</td>\n",
       "      <td>0</td>\n",
       "    </tr>\n",
       "    <tr>\n",
       "      <th>5</th>\n",
       "      <td>62599d12c750d100018732c2</td>\n",
       "      <td>USDT</td>\n",
       "      <td>main</td>\n",
       "      <td>0</td>\n",
       "      <td>0</td>\n",
       "      <td>0</td>\n",
       "    </tr>\n",
       "  </tbody>\n",
       "</table>\n",
       "</div>"
      ],
      "text/plain": [
       "                         id currency   type     balance   available holds\n",
       "0  625a8e24c3c51b0001e1a13a    ROUTE  trade   3729.2422   3729.2422     0\n",
       "1  62d85e5b501cb3000163af50     ATOM  trade          50          50     0\n",
       "2  62d854f9cf97b00001868262     API3  trade         235         235     0\n",
       "3  62d8bdda975dca0001f55ac0      KNC  trade     142.316     142.316     0\n",
       "4  6259aad5a560990001c98ddb     USDT  trade  0.00007904  0.00007904     0\n",
       "5  62599d12c750d100018732c2     USDT   main           0           0     0"
      ]
     },
     "execution_count": 42,
     "metadata": {},
     "output_type": "execute_result"
    }
   ],
   "source": [
    "get_investment_data()"
   ]
  },
  {
   "cell_type": "code",
   "execution_count": 43,
   "id": "e9e040e1-8c60-4a6e-9ffe-e56846af674f",
   "metadata": {},
   "outputs": [],
   "source": [
    "def get_assets_data():\n",
    "    tickers = get_all_tickers()['data']['ticker']\n",
    "    balances = get_account_balance()\n",
    "    assets_data = {}\n",
    "    for row in balances:\n",
    "        currency = row['currency']\n",
    "        holdings = row['balance']\n",
    "        ticker = next((item for item in tickers if item['symbol'] == f\"{currency}-USDT\"), None)\n",
    "        if ticker is not None:\n",
    "            price = float(ticker['last'])\n",
    "            value = price * float(holdings)\n",
    "            asset_data = {'symbol': currency, 'holdings': holdings, 'price': price, 'value': value}\n",
    "            assets_data[currency] = asset_data\n",
    "    return assets_data"
   ]
  },
  {
   "cell_type": "code",
   "execution_count": 44,
   "id": "355e5a0b-0cf1-4394-8e92-f55fbac3350d",
   "metadata": {},
   "outputs": [
    {
     "data": {
      "text/plain": [
       "{'ROUTE': {'symbol': 'ROUTE',\n",
       "  'holdings': '3729.2422',\n",
       "  'price': 2.5533,\n",
       "  'value': 9521.874109260001},\n",
       " 'ATOM': {'symbol': 'ATOM',\n",
       "  'holdings': '50',\n",
       "  'price': 10.5001,\n",
       "  'value': 525.005},\n",
       " 'API3': {'symbol': 'API3',\n",
       "  'holdings': '235',\n",
       "  'price': 1.176,\n",
       "  'value': 276.35999999999996},\n",
       " 'KNC': {'symbol': 'KNC',\n",
       "  'holdings': '142.316',\n",
       "  'price': 0.5938,\n",
       "  'value': 84.5072408}}"
      ]
     },
     "execution_count": 44,
     "metadata": {},
     "output_type": "execute_result"
    }
   ],
   "source": [
    "get_assets_data()"
   ]
  },
  {
   "cell_type": "code",
   "execution_count": 45,
   "id": "bf5bfe52-fec6-4238-96d9-e7dfcda67e7b",
   "metadata": {},
   "outputs": [],
   "source": [
    "def get_ohlc_data(symbol, interval='1day', columns=['timestamp', 'open', 'close', 'high', 'low', 'volume', 'turnover']):\n",
    "    url = f'https://api.kucoin.com/api/v1/market/candles?symbol={symbol}&type={interval}'\n",
    "    response = requests.get(url)\n",
    "    \n",
    "    if response.status_code == 200:\n",
    "        data = response.json()['data']\n",
    "        ohlc_data = []\n",
    "        for candle in data:\n",
    "            ohlc_data.append({\n",
    "                columns[0]: candle[0],\n",
    "                columns[1]: float(candle[1]),\n",
    "                columns[2]: float(candle[4]),\n",
    "                columns[3]: float(candle[2]),\n",
    "                columns[4]: float(candle[3]),\n",
    "                columns[5]: float(candle[5]),\n",
    "                columns[6]: float(candle[6])\n",
    "            })\n",
    "        return ohlc_data\n",
    "    else:\n",
    "        print(f'Failed to get {symbol} OHLC data. Error code:', response.status_code)"
   ]
  },
  {
   "cell_type": "code",
   "execution_count": 46,
   "id": "bcef211b-00c5-4d14-a0fe-7210a10d6687",
   "metadata": {},
   "outputs": [],
   "source": [
    "#get_ohlc_data('KNC-USDT', '1day')"
   ]
  },
  {
   "cell_type": "code",
   "execution_count": 47,
   "id": "0f6ada1b-474b-4b45-9bc5-9c89770e70c9",
   "metadata": {},
   "outputs": [],
   "source": [
    "def get_total_portfolio_value():\n",
    "    tickers = get_all_tickers()['data']['ticker']\n",
    "    balances = get_account_balance()\n",
    "    total_value = 0.0\n",
    "    for row in balances:\n",
    "        currency = row['currency']\n",
    "        holdings = row['balance']\n",
    "        ticker = next((item for item in tickers if item['symbol'] == f\"{currency}-USDT\"), None)\n",
    "        if ticker is not None:\n",
    "            price = float(ticker['last'])\n",
    "            value = price * float(holdings)\n",
    "            total_value += value\n",
    "    return total_value"
   ]
  },
  {
   "cell_type": "code",
   "execution_count": 48,
   "id": "a6d8f75a-0fdf-4292-ad94-09072fb819c6",
   "metadata": {},
   "outputs": [
    {
     "data": {
      "text/plain": [
       "10407.74635006"
      ]
     },
     "execution_count": 48,
     "metadata": {},
     "output_type": "execute_result"
    }
   ],
   "source": [
    "get_total_portfolio_value()"
   ]
  },
  {
   "cell_type": "code",
   "execution_count": 49,
   "id": "fc41e04c-6b82-4521-901d-050f611c24e7",
   "metadata": {},
   "outputs": [],
   "source": [
    "def get_total_profit_loss():\n",
    "    balances = get_account_balance()\n",
    "    total_profit_loss = 0.0\n",
    "    for balance in balances:\n",
    "        currency = balance['currency']\n",
    "        holdings = float(balance['balance'])\n",
    "        if holdings == 0:\n",
    "            continue\n",
    "        ticker = next((item for item in get_all_tickers()['data']['ticker'] if item['symbol'] == f\"{currency}-USDT\"), None)\n",
    "        if ticker:\n",
    "            price = float(ticker.get('last', 0))\n",
    "            avg_price = float(balance.get('avgPrice', 0))\n",
    "            profit_loss = (price - avg_price) * holdings\n",
    "            total_profit_loss += profit_loss\n",
    "    return total_profit_loss"
   ]
  },
  {
   "cell_type": "code",
   "execution_count": 50,
   "id": "2367732f-f41a-4328-8adf-6792b102eebe",
   "metadata": {},
   "outputs": [
    {
     "data": {
      "text/plain": [
       "10407.74635006"
      ]
     },
     "execution_count": 50,
     "metadata": {},
     "output_type": "execute_result"
    }
   ],
   "source": [
    "get_total_profit_loss()"
   ]
  },
  {
   "cell_type": "code",
   "execution_count": null,
   "id": "0e0243e0-a71e-42fe-b127-aa6d1b89301c",
   "metadata": {},
   "outputs": [],
   "source": []
  }
 ],
 "metadata": {
  "kernelspec": {
   "display_name": "Python 3 (ipykernel)",
   "language": "python",
   "name": "python3"
  },
  "language_info": {
   "codemirror_mode": {
    "name": "ipython",
    "version": 3
   },
   "file_extension": ".py",
   "mimetype": "text/x-python",
   "name": "python",
   "nbconvert_exporter": "python",
   "pygments_lexer": "ipython3",
   "version": "3.10.11"
  }
 },
 "nbformat": 4,
 "nbformat_minor": 5
}
