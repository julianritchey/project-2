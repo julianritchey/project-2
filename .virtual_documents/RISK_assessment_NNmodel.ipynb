import pandas as pd
import numpy as np
from keras.models import Sequential
from keras.layers import Dense, Activation


risk_tolerance_data = pd.read_csv('us_input_data.csv')
risk_tolerance_data.head()
risk_tolerance_data.columns


risk_tol_assess_model = risk_tolerance_data.rename(columns={
    'Unnamed: 0': 'PROFILE ID',
    'AGE07': 'AGE',
    'EDCL07': 'EDUCATION',
    'MARRIED07': 'MARITAL STATUS',
    'KIDS07': 'CHILDREN',
    'LIFECL07': 'LIFE CYCLE SEGMENT',
    'OCCAT107': 'EMPLOYMENT',
    'INCOME07': 'INCOME',
    'RISK07': 'RISK TENDENCY',
    'WSAVED07': 'SAVING POTENTIAL',
    'SPENDMOR07': 'SPENDING POTENTIAL',
    'NETWORTH07': 'NET WORTH',
    'TrueRiskTol': 'TRUE RISK TOLERANCE'
})
risk_tol_assess_model.columns


# Calculate quartiles
q1 = np.percentile(risk_tol_assess_model['TRUE RISK TOLERANCE'], 25)
q3 = np.percentile(risk_tol_assess_model['TRUE RISK TOLERANCE'], 75)

# Define the thresholds
threshold_low = q1
threshold_high = q3

risk_tol_assess_model['RISK PROFILE TYPE'] = 'Low risk'  # Default value

# Assign risk level labels
risk_tol_assess_model.loc[risk_tol_assess_model['TRUE RISK TOLERANCE'] <= threshold_low, 'RISK PROFILE TYPE'] = 'Low risk'
risk_tol_assess_model.loc[(risk_tol_assess_model['TRUE RISK TOLERANCE'] > threshold_low) & (risk_tol_assess_model['TRUE RISK TOLERANCE'] <= threshold_high), 'RISK PROFILE TYPE'] = 'Moderate risk'
risk_tol_assess_model.loc[risk_tol_assess_model['TRUE RISK TOLERANCE'] > threshold_high, 'RISK PROFILE TYPE'] = 'High risk'

# Encode the categorical labels to numerical values
encoder = LabelEncoder()
risk_tol_assess_model['RISK PROFILE ENCODED'] = encoder.fit_transform(risk_tol_assess_model['RISK PROFILE TYPE']) + 1

print(risk_tol_assess_model['RISK PROFILE ENCODED'].unique())


risk_tol_assess_model.head()






