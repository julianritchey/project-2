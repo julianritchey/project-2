import pandas as pd
import numpy as np
from keras.models import Sequential
from keras.layers import Dense, Activation


risk_tolerance_data = pd.read_csv('us_input_data.csv')
risk_tolerance_data.head()
risk_tolerance_data.columns


risk_tol_assess_model = risk_tolerance_data.rename(columns={
    'Unnamed: 0': 'PROFILE ID',
    'AGE07': 'AGE',
    'EDCL07': 'EDUCATION',
    'MARRIED07': 'MARITAL STATUS',
    'KIDS07': 'CHILDREN',
    'LIFECL07': 'LIFE CYCLE SEGMENT',
    'OCCAT107': 'EMPLOYMENT',
    'INCOME07': 'INCOME',
    'RISK07': 'RISK TENDENCY',
    'WSAVED07': 'SAVING POTENTIAL',
    'SPENDMOR07': 'SPENDING POTENTIAL',
    'NETWORTH07': 'NET WORTH',
    'TrueRiskTol': 'TRUE RISK TOLERANCE'
})
risk_tol_assess_model.columns


# Calculate descriptive statistics
min_value = np.min(risk_tol_assess_model['TRUE RISK TOLERANCE'])
max_value = np.max(risk_tol_assess_model['TRUE RISK TOLERANCE'])
mean_value = np.mean(risk_tol_assess_model['TRUE RISK TOLERANCE'])
median_value = np.median(risk_tol_assess_model['TRUE RISK TOLERANCE'])
std_value = np.std(risk_tol_assess_model['TRUE RISK TOLERANCE'])

# Printing the descriptive statistics
print("Min:", min_value)
print("Max:", max_value)
print("Mean:", mean_value)
print("Median:", median_value)
print("Standard Deviation:", std_value)


categories = risk_tol_assess_model['TRUE RISK TOLERANCE'].unique()


label_map = {'low risk': 1, 'moderate risk': 2, 'high risk': 3}



risk_tol_assess_model['RISK PROFILE TYPE'] = risk_tol_assess_model['TRUE RISK TOLERANCE'].map(label_map)



risk_tol_assess_model


def map_risk_level(value):
    if value < threshold_low:
        return 1
    elif value < threshold_high:
        return 2
    else:
        return 3

