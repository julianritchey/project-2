pip install pandas-stata-reader


import pandas as pd
import pyreadstat


import os
# Specify the directory path
directory = "C:\Desktop\my_gitrepos\project-2"
# Specify the file names
sas_file = "cad_data.sas7bdat"
csv_file = "cad_data.csv"

# Construct the file paths
sas_file_path = os.path.join(directory, sas_file)
csv_file_path = os.path.join(directory, csv_file)



# Read the SAS file and convert it to a DataFrame
df, metadata = pyreadstat.read_sas7bdat(sas_file_path)

# Display the DataFrame
df.head()



