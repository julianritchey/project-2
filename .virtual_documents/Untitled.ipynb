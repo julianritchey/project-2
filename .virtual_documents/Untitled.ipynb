#Importing CryptoCurrency EXchange Trading Library
# ccxt library supports the following crypto exchanges: Binance,Coinbase Pro,Kraken,Bitstamp,KuCoin,Bittrex,Bitfinex,Poloniex
import ccxt
import pandas as pd
import datetime


# Create an instance of the exchange
exchange = ccxt.binance()

# Define the symbol and timeframe
symbol = 'BTC/USDT'
timeframe = '1d'

# Set the start and end dates
start_date = datetime.datetime(2021, 1, 1)
end_date = datetime.datetime(2023, 5, 1)

# Convert the dates to timestamps
start_timestamp = int(start_date.timestamp() * 1000)
end_timestamp = int(end_date.timestamp() * 1000)

# Fetch the OHLCV data
ohlcv_data = exchange.fetch_ohlcv(symbol, timeframe, start_timestamp, limit=1000)

# Convert the data to a DataFrame
BTC_historical = pd.DataFrame(ohlcv_data, columns=['timestamp', 'open', 'high', 'low', 'close', 'volume'])

# Convert the timestamp column to DateTime
BTC_historical['timestamp'] = pd.to_datetime(BTC_historical['timestamp'], unit='ms')

# Set the timestamp column as the index
BTC_historical.set_index('timestamp', inplace=True)

# Perform slice indexing
BTC_historical = BTC_historical.loc[start_date:end_date]
BTC_historical


# Create an instance of the exchange
exchange = ccxt.kraken()

# Define the symbol and timeframe
symbol = 'ETH/USD'
timeframe = '1d'

# Set the start and end dates
start_date = datetime.datetime(2021, 1, 1)
end_date = datetime.datetime(2023, 5, 1)

# Convert the dates to timestamps
start_timestamp = int(start_date.timestamp() * 1000)
end_timestamp = int(end_date.timestamp() * 1000)

# Fetch the OHLCV data
ohlcv_data = exchange.fetch_ohlcv(symbol, timeframe, start_timestamp, limit=1000)

# Convert the data to a DataFrame
ETH_historical = pd.DataFrame(ohlcv_data, columns=['timestamp', 'open', 'high', 'low', 'close', 'volume'])

# Convert the timestamp column to DateTime
ETH_historical['timestamp'] = pd.to_datetime(ETH_historical['timestamp'], unit='ms')

# Set the timestamp column as the index
ETH_historical.set_index('timestamp', inplace=True)

# Perform slice indexing
ETH_historical = ETH_historical.loc[start_date:end_date]
ETH_historical


# Create an instance of the exchange
exchange = ccxt.kucoin()

# Define the symbol and timeframe
symbol = 'ADA/USDT'
timeframe = '1d'

# Set the start and end dates
start_date = datetime.datetime(2021, 1, 1)
end_date = datetime.datetime(2023, 5, 1)

# Convert the dates to timestamps
start_timestamp = int(start_date.timestamp() * 1000)
end_timestamp = int(end_date.timestamp() * 1000)

# Fetch the OHLCV data
ohlcv_data = exchange.fetch_ohlcv(symbol, timeframe, start_timestamp, limit=1000)

# Convert the data to a DataFrame
ADA_historical = pd.DataFrame(ohlcv_data, columns=['timestamp', 'open', 'high', 'low', 'close', 'volume'])

# Convert the timestamp column to DateTime
ADA_historical['timestamp'] = pd.to_datetime(ADA_historical['timestamp'], unit='ms')

# Set the timestamp column as the index
ADA_historical.set_index('timestamp', inplace=True)

# Perform slice indexing
ADA_historical = ADA_historical.loc[start_date:end_date]
ADA_historical


# Create an instance of the exchange
exchange = ccxt.binance()

# Define the symbol and timeframe
symbol = 'MATIC/USDT'
timeframe = '1d'

# Set the start and end dates
start_date = datetime.datetime(2021, 1, 1)
end_date = datetime.datetime(2023, 5, 1)

# Convert the dates to timestamps
start_timestamp = int(start_date.timestamp() * 1000)
end_timestamp = int(end_date.timestamp() * 1000)

# Fetch the OHLCV data
ohlcv_data = exchange.fetch_ohlcv(symbol, timeframe, start_timestamp, limit=1000)

# Convert the data to a DataFrame
MATIC_historical = pd.DataFrame(ohlcv_data, columns=['timestamp', 'open', 'high', 'low', 'close', 'volume'])

# Convert the timestamp column to DateTime
MATIC_historical['timestamp'] = pd.to_datetime(MATIC_historical['timestamp'], unit='ms')

# Set the timestamp column as the index
MATIC_historical.set_index('timestamp', inplace=True)

# Perform slice indexing
MATIC_historical = MATIC_historical.loc[start_date:end_date]
MATIC_historical


# Create an instance of the exchange
exchange = ccxt.kraken()

# Define the symbol and timeframe
symbol = 'SOL/USD'
timeframe = '1d'

# Set the start and end dates
start_date = datetime.datetime(2021, 1, 1)
end_date = datetime.datetime(2023, 5, 1)

# Convert the dates to timestamps
start_timestamp = int(start_date.timestamp() * 1000)
end_timestamp = int(end_date.timestamp() * 1000)

# Fetch the OHLCV data
ohlcv_data = exchange.fetch_ohlcv(symbol, timeframe, start_timestamp, limit=1000)

# Convert the data to a DataFrame
SOL_historical = pd.DataFrame(ohlcv_data, columns=['timestamp', 'open', 'high', 'low', 'close', 'volume'])

# Convert the timestamp column to DateTime
SOL_historical['timestamp'] = pd.to_datetime(SOL_historical['timestamp'], unit='ms')

# Set the timestamp column as the index
SOL_historical.set_index('timestamp', inplace=True)

# Perform slice indexing
SOL_historical = SOL_historical.loc[start_date:end_date]
SOL_historical


# Create an instance of the exchange
exchange = ccxt.binance()

# Define the symbol and timeframe
symbol = 'AVAX/USDT'
timeframe = '1d'

# Set the start and end dates
start_date = datetime.datetime(2021, 1, 1)
end_date = datetime.datetime(2023, 5, 1)

# Convert the dates to timestamps
start_timestamp = int(start_date.timestamp() * 1000)
end_timestamp = int(end_date.timestamp() * 1000)

# Fetch the OHLCV data
ohlcv_data = exchange.fetch_ohlcv(symbol, timeframe, start_timestamp, limit=1000)

# Convert the data to a DataFrame
AVAX_historical = pd.DataFrame(ohlcv_data, columns=['timestamp', 'open', 'high', 'low', 'close', 'volume'])

# Convert the timestamp column to DateTime
AVAX_historical['timestamp'] = pd.to_datetime(AVAX_historical['timestamp'], unit='ms')

# Set the timestamp column as the index
AVAX_historical.set_index('timestamp', inplace=True)

# Perform slice indexing
AVAX_historical = AVAX_historical.loc[start_date:end_date]
AVAX_historical


# Create an instance of the exchange
exchange = ccxt.kraken()

# Define the symbol and timeframe
symbol = 'UNI/USD'
timeframe = '1d'

# Set the start and end dates
start_date = datetime.datetime(2021, 1, 1)
end_date = datetime.datetime(2023, 5, 1)

# Convert the dates to timestamps
start_timestamp = int(start_date.timestamp() * 1000)
end_timestamp = int(end_date.timestamp() * 1000)

# Fetch the OHLCV data
ohlcv_data = exchange.fetch_ohlcv(symbol, timeframe, start_timestamp, limit=1000)

# Convert the data to a DataFrame
UNI_historical = pd.DataFrame(ohlcv_data, columns=['timestamp', 'open', 'high', 'low', 'close', 'volume'])

# Convert the timestamp column to DateTime
UNI_historical['timestamp'] = pd.to_datetime(UNI_historical['timestamp'], unit='ms')

# Set the timestamp column as the index
UNI_historical.set_index('timestamp', inplace=True)

# Perform slice indexing
UNI_historical = UNI_historical.loc[start_date:end_date]
UNI_historical


# Create an instance of the exchange
exchange = ccxt.binance()

# Define the symbol and timeframe
symbol = 'AAVE/USDT'
timeframe = '1d'

# Set the start and end dates
start_date = datetime.datetime(2021, 1, 1)
end_date = datetime.datetime(2023, 5, 1)

# Convert the dates to timestamps
start_timestamp = int(start_date.timestamp() * 1000)
end_timestamp = int(end_date.timestamp() * 1000)

# Fetch the OHLCV data
ohlcv_data = exchange.fetch_ohlcv(symbol, timeframe, start_timestamp, limit=1000)

# Convert the data to a DataFrame
AAVE_historical = pd.DataFrame(ohlcv_data, columns=['timestamp', 'open', 'high', 'low', 'close', 'volume'])

# Convert the timestamp column to DateTime
AAVE_historical['timestamp'] = pd.to_datetime(AAVE_historical['timestamp'], unit='ms')

# Set the timestamp column as the index
AAVE_historical.set_index('timestamp', inplace=True)

# Perform slice indexing
AAVE_historical = AAVE_historical.loc[start_date:end_date]
AAVE_historical


# Create an instance of the exchange
exchange = ccxt.kucoin()

# Define the symbol and timeframe
symbol = 'MANA/USDT'
timeframe = '1d'

# Set the start and end dates
start_date = datetime.datetime(2021, 1, 1)
end_date = datetime.datetime(2023, 5, 1)

# Convert the dates to timestamps
start_timestamp = int(start_date.timestamp() * 1000)
end_timestamp = int(end_date.timestamp() * 1000)

# Fetch the OHLCV data
ohlcv_data = exchange.fetch_ohlcv(symbol, timeframe, start_timestamp, limit=1000)

# Convert the data to a DataFrame
MANA_historical = pd.DataFrame(ohlcv_data, columns=['timestamp', 'open', 'high', 'low', 'close', 'volume'])

# Convert the timestamp column to DateTime
MANA_historical['timestamp'] = pd.to_datetime(MANA_historical['timestamp'], unit='ms')

# Set the timestamp column as the index
MANA_historical.set_index('timestamp', inplace=True)

# Perform slice indexing
MANA_historical = MANA_historical.loc[start_date:end_date]
MANA_historical



