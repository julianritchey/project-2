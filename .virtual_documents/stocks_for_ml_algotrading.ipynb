# Import libraries
import numpy as np
import pandas as pd
import yfinance as yf


# Define tickers symbols
tickerSymbols = ['MSFT', 'TSLA', 'AAPL', 'AMZN', 'GOOG' ,]

# Get the data on these tickers
MSFT = yf.Ticker(tickerSymbols[0])
TSLA = yf.Ticker(tickerSymbols[1])
AAPL = yf.Ticker(tickerSymbols[2])
AMZN = yf.Ticker(tickerSymbols[3])
GOOG = yf.Ticker(tickerSymbols[4])



# Get the historical prices for the tickers
MSFT_df = MSFT.history(period='1d', start='2015-1-1', end='2020-1-1')
TSLA_df = TSLA.history(period='1d', start='2015-1-1', end='2020-1-1')
AAPL_df = AAPL.history(period='1d', start='2015-1-1', end='2020-1-1')
AMZN_df = AMZN.history(period='1d', start='2015-1-1', end='2020-1-1')
GOOG_df = GOOG.history(period='1d', start='2015-1-1', end='2020-1-1')


# Visualize one example
GOOG_df.head()


# Save the close columns of each stock into new variables
MSFT = MSFT_df['Close']
TSLA = TSLA_df['Close']
AAPL = AAPL_df['Close']
AMZN = AMZN_df['Close']
GOOG = GOOG_df['Close']

# Concatenate all stocks close columns into one data frame
stocks_df = pd.concat([MSFT, TSLA, AAPL, AMZN, GOOG], axis='columns', join='inner')

# Rename the data frame columns with their corresponding tickers symbols
stocks_df.columns = ['MSFT', 'TSLA', 'AAPL', 'AMZN', 'GOOG']

# Visualize the new data frame
stocks_df.head()


# Get daily percentage change
stocks_df = stocks_df.pct_change().dropna()

# Visualize new data frame
stocks_df.head()

# Plot daily percentage change
stocks_df.plot(figsize=(20, 10), title="Daily Returns");


#According to the plot above, it seems that TSLA is the most volatile stock out of the five analyzed stocks while MSFT seems to be the least volatile stock. To understand this interpretation, one should focus on the amount of peaks in the plot (either up or down): the higher the amount of peaks, the higher the volatility of a stock, and thus, more investment risk associated with it.

#calculate the cumulative returns and plot them to compare the stocks behaviors over the years been analyzed. In addition, let’s graph the box plot (also known as box and whiskers plot).

#calculate the cumulative returns and plot them to compare the stocks behaviors over the years been analyzed.


# Calculate cumulative returns
cumulative_returns = (1 + stocks_df).cumprod()

# Plot cumulative returns
cumulative_returns.plot(figsize=(20, 10), title="Cumulative Returns");

# Box plot to visually show risk
stocks_df.plot.box(figsize=(20, 10), title="Portfolio Risk");


#According to the cumulative returns plot above, by the beginning of year 2020, AMZN stock had the highest cumulative returns by a significant difference, followed by MSFT, AAPL, GOOG and finally TSLA.


# Calculate standard deviation for each stock
stocks_df.std()

# Results:

# MSFT    0.014686
# TSLA    0.028312
# AAPL    0.015646
# AMZN    0.018426
# GOOG    0.015122
# dtype: float64

# Calculate annualized standard deviation (252 trading days)
stocks_df.std() * np.sqrt(252)

# Results:
# MSFT    0.233130
# TSLA    0.449436
# AAPL    0.248374
# AMZN    0.292501
# GOOG    0.240049
# dtype: float64

# Calculate and plot the rolling standard deviation for each stock using a 30 trading day window
stocks_df.rolling(window=30).std().plot(figsize=(20, 10), title="30 Day Rolling Standard Deviation");



#Interesting. According to the plot above, years 2015, 2018 and 2019 were highly volatile for TSLA and AMZN stocks. In contrast, the year 2017 was the one with the lowest volatility for most of the stocks. The rolling standard deviations for MSFT, AAPL and GOOG stocks were to some degree very similar over the five years analyzed.


# Calculate annualized Sharpe Ratios
sharpe_ratios = (stocks_df.mean() * 252) / (stocks_df.std() * np.sqrt(252))
sharpe_ratios = sharpe_ratios.sort_values(ascending=False)
sharpe_ratios

# Results:

# AMZN    1.372067
# MSFT    1.254869
# AAPL    0.990570
# GOOG    0.902369
# TSLA    0.511901
# dtype: float64

# Visualize the Sharpe ratios as a bar plot
sharpe_ratios.plot(figsize=(20, 10), kind="bar", title="Sharpe Ratios");


#According to the Sharpe ratios calculated for each of the analyzed stocks, AMZN got the best score with a Sharpe ratio of 1.37. Sharpe ratios greater than 1.0 (i.e. AMZN and MSFT) are considered optimal and those below 1.0 (i.e. AAPL, GOOG & TSLA) are considered sub-optimal.

#Making the Investment Decision
#For this example, if an investor had to make an investment decision based only on the stocks cumulative returns, he/she would select AMZN stock since it outperformed all the other stocks by a significant difference.

#On the other hand, if an investor had to make an investment decision based only on the stocks standard deviations, he/she would select MSFT stock in an effort to minimize volatility.

#Finally, if an investor had to make an investment decision based only on the stocks Sharpe ratios, he/she would select AMZN stock since it got the best score.
