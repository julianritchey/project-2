import pandas as pd
import numpy as np
from keras.models import Sequential
from keras.layers import Dense, Activation

# This code is neccessary to produce the same results every time
import tensorflow as tf
from keras.models import Sequential, Model
from keras.layers import Dense, Activation, Dropout
from sklearn.preprocessing import StandardScaler
import hvplot.pandas
from pathlib import Path
from sklearn.linear_model import LinearRegression

from sklearn.model_selection import train_test_split
import matplotlib.pyplot as plt
from imblearn.metrics import classification_report_imbalanced
from sklearn.metrics import accuracy_score, classification_report
from sklearn.linear_model import LogisticRegression


from tensorflow.keras.layers import Dense
from tensorflow.keras.models import Sequential
from sklearn.preprocessing import StandardScaler
from sklearn.model_selection import train_test_split

import pandas as pd
import numpy as np
import matplotlib.pyplot as plt
from sklearn.model_selection import train_test_split
from sklearn.preprocessing import StandardScaler
from sklearn.linear_model import LinearRegression
#from keras.models import Sequential
#from keras.layers import Dense



us_data = pd.read_csv('us_input_data.csv')
us_data.head()
us_data.columns


import numpy as np

# Calculate descriptive statistics
min_value = np.min(us_data['TrueRiskTol'])
max_value = np.max(us_data['TrueRiskTol'])
mean_value = np.mean(us_data['TrueRiskTol'])
median_value = np.median(us_data['TrueRiskTol'])
std_value = np.std(us_data['TrueRiskTol'])

# Print the descriptive statistics
print("Min:", min_value)
print("Max:", max_value)
print("Mean:", mean_value)
print("Median:", median_value)
print("Standard Deviation:", std_value)


#Determine Threshold Ranges for Categorical Mapping:

percentiles = np.percentile(us_data['TrueRiskTol'], [25, 75])
low_risk_threshold = percentiles[0]
conservative_threshold = percentiles[1]


# Select the relevant columns as features and target
feature_columns = ['AGE07', 'EDCL07', 'MARRIED07', 'KIDS07', 'LIFECL07',
                   'OCCAT107', 'INCOME07', 'RISK07', 'WSAVED07', 'SPENDMOR07', 'NETWORTH07']
target_column = 'TrueRiskTol'

# Prepare X (features) and Y (target)
X = us_data[feature_columns]
y = us_data[target_column]


# Define threshold ranges based on percentiles
#percentiles = np.percentile(true_risk_tol_values, [25, 75])
#low_risk_threshold = percentiles[0]
#conservative_threshold = percentiles[1]

# Create an empty list to store categorical values
categorical_values = []

# Apply thresholds and categorize predictions
for prediction in y:
    if prediction <= low_risk_threshold:
        categorical_values.append(1)  # Low risk
    elif prediction <= conservative_threshold:
        categorical_values.append(2)  # Conservative
    else:
        categorical_values.append(3)  # High risk


# Add a new column for categorical values
us_data['Risk Assessment'] = categorical_values


# Print the categorical values
#print(categorical_values)


us_data



