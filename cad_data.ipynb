{
 "cells": [
  {
   "cell_type": "code",
   "execution_count": 1,
   "id": "220255b8-5db5-4e26-a2ba-e507613ce9a1",
   "metadata": {},
   "outputs": [
    {
     "name": "stdout",
     "output_type": "stream",
     "text": [
      "Requirement already satisfied: pyreadstat in c:\\users\\resup\\anaconda3\\envs\\mlenv\\lib\\site-packages (1.2.1)Note: you may need to restart the kernel to use updated packages.\n",
      "\n",
      "Requirement already satisfied: pandas>=1.2.0 in c:\\users\\resup\\anaconda3\\envs\\mlenv\\lib\\site-packages (from pyreadstat) (2.0.1)\n",
      "Requirement already satisfied: python-dateutil>=2.8.2 in c:\\users\\resup\\anaconda3\\envs\\mlenv\\lib\\site-packages (from pandas>=1.2.0->pyreadstat) (2.8.2)\n",
      "Requirement already satisfied: pytz>=2020.1 in c:\\users\\resup\\anaconda3\\envs\\mlenv\\lib\\site-packages (from pandas>=1.2.0->pyreadstat) (2023.3)\n",
      "Requirement already satisfied: tzdata>=2022.1 in c:\\users\\resup\\anaconda3\\envs\\mlenv\\lib\\site-packages (from pandas>=1.2.0->pyreadstat) (2023.3)\n",
      "Requirement already satisfied: numpy>=1.21.0 in c:\\users\\resup\\anaconda3\\envs\\mlenv\\lib\\site-packages (from pandas>=1.2.0->pyreadstat) (1.24.3)\n",
      "Requirement already satisfied: six>=1.5 in c:\\users\\resup\\anaconda3\\envs\\mlenv\\lib\\site-packages (from python-dateutil>=2.8.2->pandas>=1.2.0->pyreadstat) (1.16.0)\n"
     ]
    }
   ],
   "source": [
    "pip install pyreadstat\n"
   ]
  },
  {
   "cell_type": "code",
   "execution_count": null,
   "id": "d78b9153-b4a7-4e7e-aa02-1fd405d6a13e",
   "metadata": {},
   "outputs": [],
   "source": [
    "import pandas as pd\n",
    "import pyreadstat\n",
    "\n",
    "# Specify the path to your SAS file\n",
    "sas_file_path = \"path_to_your_sas_file.sas7bdat\"\n",
    "\n",
    "# Read the SAS file and convert it to a DataFrame\n",
    "df, metadata = pyreadstat.read_sas7bdat(sas_file_path)\n",
    "\n",
    "# Display the DataFrame\n",
    "df.head()\n"
   ]
  }
 ],
 "metadata": {
  "kernelspec": {
   "display_name": "Python 3 (ipykernel)",
   "language": "python",
   "name": "python3"
  },
  "language_info": {
   "codemirror_mode": {
    "name": "ipython",
    "version": 3
   },
   "file_extension": ".py",
   "mimetype": "text/x-python",
   "name": "python",
   "nbconvert_exporter": "python",
   "pygments_lexer": "ipython3",
   "version": "3.10.11"
  }
 },
 "nbformat": 4,
 "nbformat_minor": 5
}
